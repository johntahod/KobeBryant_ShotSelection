{
 "cells": [
  {
   "cell_type": "markdown",
   "metadata": {},
   "source": [
    "## Kobe Bryant Shot Selection Project\n",
    "\n",
    "### Team Members: Kit Ha, Vinh Ngo, Johnathan Tahod, Anthony Collado\n",
    "\n",
    "#### Credit to Kaggle for data and idea. Link to webpage below\n",
    "#### https://www.kaggle.com/c/kobe-bryant-shot-selection\n",
    "#### Github: https://github.com/johntahod/KobeBryant_ShotSelection/tree/master"
   ]
  },
  {
   "cell_type": "markdown",
   "metadata": {},
   "source": [
    "##### *Markdown conventions just to be consistent\n",
    "# Title\n",
    "## Headers\n",
    "### Sections\n",
    "##### Notes/Comments"
   ]
  },
  {
   "cell_type": "markdown",
   "metadata": {},
   "source": [
    "### Imports and Setting up the data frame + first look at data"
   ]
  },
  {
   "cell_type": "code",
   "execution_count": 36,
   "metadata": {},
   "outputs": [
    {
     "data": {
      "text/html": [
       "<div>\n",
       "<style scoped>\n",
       "    .dataframe tbody tr th:only-of-type {\n",
       "        vertical-align: middle;\n",
       "    }\n",
       "\n",
       "    .dataframe tbody tr th {\n",
       "        vertical-align: top;\n",
       "    }\n",
       "\n",
       "    .dataframe thead th {\n",
       "        text-align: right;\n",
       "    }\n",
       "</style>\n",
       "<table border=\"1\" class=\"dataframe\">\n",
       "  <thead>\n",
       "    <tr style=\"text-align: right;\">\n",
       "      <th></th>\n",
       "      <th>action_type</th>\n",
       "      <th>combined_shot_type</th>\n",
       "      <th>game_event_id</th>\n",
       "      <th>game_id</th>\n",
       "      <th>lat</th>\n",
       "      <th>loc_x</th>\n",
       "      <th>loc_y</th>\n",
       "      <th>lon</th>\n",
       "      <th>minutes_remaining</th>\n",
       "      <th>period</th>\n",
       "      <th>...</th>\n",
       "      <th>shot_type</th>\n",
       "      <th>shot_zone_area</th>\n",
       "      <th>shot_zone_basic</th>\n",
       "      <th>shot_zone_range</th>\n",
       "      <th>team_id</th>\n",
       "      <th>team_name</th>\n",
       "      <th>game_date</th>\n",
       "      <th>matchup</th>\n",
       "      <th>opponent</th>\n",
       "      <th>shot_id</th>\n",
       "    </tr>\n",
       "  </thead>\n",
       "  <tbody>\n",
       "    <tr>\n",
       "      <td>0</td>\n",
       "      <td>Jump Shot</td>\n",
       "      <td>Jump Shot</td>\n",
       "      <td>10</td>\n",
       "      <td>20000012</td>\n",
       "      <td>33.9723</td>\n",
       "      <td>167</td>\n",
       "      <td>72</td>\n",
       "      <td>-118.1028</td>\n",
       "      <td>10</td>\n",
       "      <td>1</td>\n",
       "      <td>...</td>\n",
       "      <td>2PT Field Goal</td>\n",
       "      <td>Right Side(R)</td>\n",
       "      <td>Mid-Range</td>\n",
       "      <td>16-24 ft.</td>\n",
       "      <td>1610612747</td>\n",
       "      <td>Los Angeles Lakers</td>\n",
       "      <td>2000-10-31</td>\n",
       "      <td>LAL @ POR</td>\n",
       "      <td>POR</td>\n",
       "      <td>1</td>\n",
       "    </tr>\n",
       "    <tr>\n",
       "      <td>1</td>\n",
       "      <td>Jump Shot</td>\n",
       "      <td>Jump Shot</td>\n",
       "      <td>12</td>\n",
       "      <td>20000012</td>\n",
       "      <td>34.0443</td>\n",
       "      <td>-157</td>\n",
       "      <td>0</td>\n",
       "      <td>-118.4268</td>\n",
       "      <td>10</td>\n",
       "      <td>1</td>\n",
       "      <td>...</td>\n",
       "      <td>2PT Field Goal</td>\n",
       "      <td>Left Side(L)</td>\n",
       "      <td>Mid-Range</td>\n",
       "      <td>8-16 ft.</td>\n",
       "      <td>1610612747</td>\n",
       "      <td>Los Angeles Lakers</td>\n",
       "      <td>2000-10-31</td>\n",
       "      <td>LAL @ POR</td>\n",
       "      <td>POR</td>\n",
       "      <td>2</td>\n",
       "    </tr>\n",
       "    <tr>\n",
       "      <td>2</td>\n",
       "      <td>Jump Shot</td>\n",
       "      <td>Jump Shot</td>\n",
       "      <td>35</td>\n",
       "      <td>20000012</td>\n",
       "      <td>33.9093</td>\n",
       "      <td>-101</td>\n",
       "      <td>135</td>\n",
       "      <td>-118.3708</td>\n",
       "      <td>7</td>\n",
       "      <td>1</td>\n",
       "      <td>...</td>\n",
       "      <td>2PT Field Goal</td>\n",
       "      <td>Left Side Center(LC)</td>\n",
       "      <td>Mid-Range</td>\n",
       "      <td>16-24 ft.</td>\n",
       "      <td>1610612747</td>\n",
       "      <td>Los Angeles Lakers</td>\n",
       "      <td>2000-10-31</td>\n",
       "      <td>LAL @ POR</td>\n",
       "      <td>POR</td>\n",
       "      <td>3</td>\n",
       "    </tr>\n",
       "    <tr>\n",
       "      <td>3</td>\n",
       "      <td>Jump Shot</td>\n",
       "      <td>Jump Shot</td>\n",
       "      <td>43</td>\n",
       "      <td>20000012</td>\n",
       "      <td>33.8693</td>\n",
       "      <td>138</td>\n",
       "      <td>175</td>\n",
       "      <td>-118.1318</td>\n",
       "      <td>6</td>\n",
       "      <td>1</td>\n",
       "      <td>...</td>\n",
       "      <td>2PT Field Goal</td>\n",
       "      <td>Right Side Center(RC)</td>\n",
       "      <td>Mid-Range</td>\n",
       "      <td>16-24 ft.</td>\n",
       "      <td>1610612747</td>\n",
       "      <td>Los Angeles Lakers</td>\n",
       "      <td>2000-10-31</td>\n",
       "      <td>LAL @ POR</td>\n",
       "      <td>POR</td>\n",
       "      <td>4</td>\n",
       "    </tr>\n",
       "    <tr>\n",
       "      <td>4</td>\n",
       "      <td>Driving Dunk Shot</td>\n",
       "      <td>Dunk</td>\n",
       "      <td>155</td>\n",
       "      <td>20000012</td>\n",
       "      <td>34.0443</td>\n",
       "      <td>0</td>\n",
       "      <td>0</td>\n",
       "      <td>-118.2698</td>\n",
       "      <td>6</td>\n",
       "      <td>2</td>\n",
       "      <td>...</td>\n",
       "      <td>2PT Field Goal</td>\n",
       "      <td>Center(C)</td>\n",
       "      <td>Restricted Area</td>\n",
       "      <td>Less Than 8 ft.</td>\n",
       "      <td>1610612747</td>\n",
       "      <td>Los Angeles Lakers</td>\n",
       "      <td>2000-10-31</td>\n",
       "      <td>LAL @ POR</td>\n",
       "      <td>POR</td>\n",
       "      <td>5</td>\n",
       "    </tr>\n",
       "  </tbody>\n",
       "</table>\n",
       "<p>5 rows × 25 columns</p>\n",
       "</div>"
      ],
      "text/plain": [
       "         action_type combined_shot_type  game_event_id   game_id      lat  \\\n",
       "0          Jump Shot          Jump Shot             10  20000012  33.9723   \n",
       "1          Jump Shot          Jump Shot             12  20000012  34.0443   \n",
       "2          Jump Shot          Jump Shot             35  20000012  33.9093   \n",
       "3          Jump Shot          Jump Shot             43  20000012  33.8693   \n",
       "4  Driving Dunk Shot               Dunk            155  20000012  34.0443   \n",
       "\n",
       "   loc_x  loc_y       lon  minutes_remaining  period  ...       shot_type  \\\n",
       "0    167     72 -118.1028                 10       1  ...  2PT Field Goal   \n",
       "1   -157      0 -118.4268                 10       1  ...  2PT Field Goal   \n",
       "2   -101    135 -118.3708                  7       1  ...  2PT Field Goal   \n",
       "3    138    175 -118.1318                  6       1  ...  2PT Field Goal   \n",
       "4      0      0 -118.2698                  6       2  ...  2PT Field Goal   \n",
       "\n",
       "          shot_zone_area  shot_zone_basic  shot_zone_range     team_id  \\\n",
       "0          Right Side(R)        Mid-Range        16-24 ft.  1610612747   \n",
       "1           Left Side(L)        Mid-Range         8-16 ft.  1610612747   \n",
       "2   Left Side Center(LC)        Mid-Range        16-24 ft.  1610612747   \n",
       "3  Right Side Center(RC)        Mid-Range        16-24 ft.  1610612747   \n",
       "4              Center(C)  Restricted Area  Less Than 8 ft.  1610612747   \n",
       "\n",
       "            team_name   game_date    matchup opponent  shot_id  \n",
       "0  Los Angeles Lakers  2000-10-31  LAL @ POR      POR        1  \n",
       "1  Los Angeles Lakers  2000-10-31  LAL @ POR      POR        2  \n",
       "2  Los Angeles Lakers  2000-10-31  LAL @ POR      POR        3  \n",
       "3  Los Angeles Lakers  2000-10-31  LAL @ POR      POR        4  \n",
       "4  Los Angeles Lakers  2000-10-31  LAL @ POR      POR        5  \n",
       "\n",
       "[5 rows x 25 columns]"
      ]
     },
     "metadata": {},
     "output_type": "display_data"
    },
    {
     "name": "stdout",
     "output_type": "stream",
     "text": [
      "[Index(['action_type', 'combined_shot_type', 'game_event_id', 'game_id', 'lat',\n",
      "       'loc_x', 'loc_y', 'lon', 'minutes_remaining', 'period', 'playoffs',\n",
      "       'season', 'seconds_remaining', 'shot_distance', 'shot_made_flag',\n",
      "       'shot_type', 'shot_zone_area', 'shot_zone_basic', 'shot_zone_range',\n",
      "       'team_id', 'team_name', 'game_date', 'matchup', 'opponent', 'shot_id'],\n",
      "      dtype='object')]\n"
     ]
    }
   ],
   "source": [
    "import numpy as np\n",
    "import pandas as pd\n",
    "\n",
    "kobe_data = pd.read_csv('data.csv')\n",
    "display(kobe_data.head(5))\n",
    "\n",
    "full_features = [kobe_data.columns]\n",
    "print(full_features)"
   ]
  },
  {
   "cell_type": "markdown",
   "metadata": {},
   "source": [
    "### Setting up Lists"
   ]
  },
  {
   "cell_type": "code",
   "execution_count": 37,
   "metadata": {},
   "outputs": [],
   "source": [
    "# Target List (this is our y)\n",
    "target = ['shot_made_flag']"
   ]
  },
  {
   "cell_type": "markdown",
   "metadata": {},
   "source": [
    "#### These are features we will not be using.\n",
    "NO NEW DATA:\n",
    "team_name: This feature will not be used because Kobe has only ever played for the Lakers so this provides no new data.\n",
    "team_id: This is the same as team_name\n",
    "matchup: This tells the same information as opponent (eg. Lakers vs Portland)\n",
    "\n",
    "Little Data:\n",
    "game_event_id: Don't need to id the game\n",
    "game_id: Same reason as above\n",
    "\n",
    "Arguably Little Data:\n",
    "season: Season shouldn't have an effect on the shot\n",
    "game_date: Dates shouldn't effect the shot much"
   ]
  },
  {
   "cell_type": "code",
   "execution_count": 38,
   "metadata": {},
   "outputs": [],
   "source": [
    "# Features that we will not be using.\n",
    "unused_features = ['team_name', 'team_id', 'matchup', 'game_event_id', 'game_id', 'season', 'game_date']"
   ]
  },
  {
   "cell_type": "markdown",
   "metadata": {},
   "source": [
    "#### Removing unused features"
   ]
  },
  {
   "cell_type": "code",
   "execution_count": 39,
   "metadata": {},
   "outputs": [
    {
     "data": {
      "text/html": [
       "<div>\n",
       "<style scoped>\n",
       "    .dataframe tbody tr th:only-of-type {\n",
       "        vertical-align: middle;\n",
       "    }\n",
       "\n",
       "    .dataframe tbody tr th {\n",
       "        vertical-align: top;\n",
       "    }\n",
       "\n",
       "    .dataframe thead th {\n",
       "        text-align: right;\n",
       "    }\n",
       "</style>\n",
       "<table border=\"1\" class=\"dataframe\">\n",
       "  <thead>\n",
       "    <tr style=\"text-align: right;\">\n",
       "      <th></th>\n",
       "      <th>action_type</th>\n",
       "      <th>combined_shot_type</th>\n",
       "      <th>lat</th>\n",
       "      <th>loc_x</th>\n",
       "      <th>loc_y</th>\n",
       "      <th>lon</th>\n",
       "      <th>minutes_remaining</th>\n",
       "      <th>period</th>\n",
       "      <th>playoffs</th>\n",
       "      <th>seconds_remaining</th>\n",
       "      <th>shot_distance</th>\n",
       "      <th>shot_made_flag</th>\n",
       "      <th>shot_type</th>\n",
       "      <th>shot_zone_area</th>\n",
       "      <th>shot_zone_basic</th>\n",
       "      <th>shot_zone_range</th>\n",
       "      <th>opponent</th>\n",
       "      <th>shot_id</th>\n",
       "    </tr>\n",
       "  </thead>\n",
       "  <tbody>\n",
       "    <tr>\n",
       "      <td>0</td>\n",
       "      <td>Jump Shot</td>\n",
       "      <td>Jump Shot</td>\n",
       "      <td>33.9723</td>\n",
       "      <td>167</td>\n",
       "      <td>72</td>\n",
       "      <td>-118.1028</td>\n",
       "      <td>10</td>\n",
       "      <td>1</td>\n",
       "      <td>0</td>\n",
       "      <td>27</td>\n",
       "      <td>18</td>\n",
       "      <td>NaN</td>\n",
       "      <td>2PT Field Goal</td>\n",
       "      <td>Right Side(R)</td>\n",
       "      <td>Mid-Range</td>\n",
       "      <td>16-24 ft.</td>\n",
       "      <td>POR</td>\n",
       "      <td>1</td>\n",
       "    </tr>\n",
       "    <tr>\n",
       "      <td>1</td>\n",
       "      <td>Jump Shot</td>\n",
       "      <td>Jump Shot</td>\n",
       "      <td>34.0443</td>\n",
       "      <td>-157</td>\n",
       "      <td>0</td>\n",
       "      <td>-118.4268</td>\n",
       "      <td>10</td>\n",
       "      <td>1</td>\n",
       "      <td>0</td>\n",
       "      <td>22</td>\n",
       "      <td>15</td>\n",
       "      <td>0.0</td>\n",
       "      <td>2PT Field Goal</td>\n",
       "      <td>Left Side(L)</td>\n",
       "      <td>Mid-Range</td>\n",
       "      <td>8-16 ft.</td>\n",
       "      <td>POR</td>\n",
       "      <td>2</td>\n",
       "    </tr>\n",
       "    <tr>\n",
       "      <td>2</td>\n",
       "      <td>Jump Shot</td>\n",
       "      <td>Jump Shot</td>\n",
       "      <td>33.9093</td>\n",
       "      <td>-101</td>\n",
       "      <td>135</td>\n",
       "      <td>-118.3708</td>\n",
       "      <td>7</td>\n",
       "      <td>1</td>\n",
       "      <td>0</td>\n",
       "      <td>45</td>\n",
       "      <td>16</td>\n",
       "      <td>1.0</td>\n",
       "      <td>2PT Field Goal</td>\n",
       "      <td>Left Side Center(LC)</td>\n",
       "      <td>Mid-Range</td>\n",
       "      <td>16-24 ft.</td>\n",
       "      <td>POR</td>\n",
       "      <td>3</td>\n",
       "    </tr>\n",
       "    <tr>\n",
       "      <td>3</td>\n",
       "      <td>Jump Shot</td>\n",
       "      <td>Jump Shot</td>\n",
       "      <td>33.8693</td>\n",
       "      <td>138</td>\n",
       "      <td>175</td>\n",
       "      <td>-118.1318</td>\n",
       "      <td>6</td>\n",
       "      <td>1</td>\n",
       "      <td>0</td>\n",
       "      <td>52</td>\n",
       "      <td>22</td>\n",
       "      <td>0.0</td>\n",
       "      <td>2PT Field Goal</td>\n",
       "      <td>Right Side Center(RC)</td>\n",
       "      <td>Mid-Range</td>\n",
       "      <td>16-24 ft.</td>\n",
       "      <td>POR</td>\n",
       "      <td>4</td>\n",
       "    </tr>\n",
       "    <tr>\n",
       "      <td>4</td>\n",
       "      <td>Driving Dunk Shot</td>\n",
       "      <td>Dunk</td>\n",
       "      <td>34.0443</td>\n",
       "      <td>0</td>\n",
       "      <td>0</td>\n",
       "      <td>-118.2698</td>\n",
       "      <td>6</td>\n",
       "      <td>2</td>\n",
       "      <td>0</td>\n",
       "      <td>19</td>\n",
       "      <td>0</td>\n",
       "      <td>1.0</td>\n",
       "      <td>2PT Field Goal</td>\n",
       "      <td>Center(C)</td>\n",
       "      <td>Restricted Area</td>\n",
       "      <td>Less Than 8 ft.</td>\n",
       "      <td>POR</td>\n",
       "      <td>5</td>\n",
       "    </tr>\n",
       "  </tbody>\n",
       "</table>\n",
       "</div>"
      ],
      "text/plain": [
       "         action_type combined_shot_type      lat  loc_x  loc_y       lon  \\\n",
       "0          Jump Shot          Jump Shot  33.9723    167     72 -118.1028   \n",
       "1          Jump Shot          Jump Shot  34.0443   -157      0 -118.4268   \n",
       "2          Jump Shot          Jump Shot  33.9093   -101    135 -118.3708   \n",
       "3          Jump Shot          Jump Shot  33.8693    138    175 -118.1318   \n",
       "4  Driving Dunk Shot               Dunk  34.0443      0      0 -118.2698   \n",
       "\n",
       "   minutes_remaining  period  playoffs  seconds_remaining  shot_distance  \\\n",
       "0                 10       1         0                 27             18   \n",
       "1                 10       1         0                 22             15   \n",
       "2                  7       1         0                 45             16   \n",
       "3                  6       1         0                 52             22   \n",
       "4                  6       2         0                 19              0   \n",
       "\n",
       "   shot_made_flag       shot_type         shot_zone_area  shot_zone_basic  \\\n",
       "0             NaN  2PT Field Goal          Right Side(R)        Mid-Range   \n",
       "1             0.0  2PT Field Goal           Left Side(L)        Mid-Range   \n",
       "2             1.0  2PT Field Goal   Left Side Center(LC)        Mid-Range   \n",
       "3             0.0  2PT Field Goal  Right Side Center(RC)        Mid-Range   \n",
       "4             1.0  2PT Field Goal              Center(C)  Restricted Area   \n",
       "\n",
       "   shot_zone_range opponent  shot_id  \n",
       "0        16-24 ft.      POR        1  \n",
       "1         8-16 ft.      POR        2  \n",
       "2        16-24 ft.      POR        3  \n",
       "3        16-24 ft.      POR        4  \n",
       "4  Less Than 8 ft.      POR        5  "
      ]
     },
     "metadata": {},
     "output_type": "display_data"
    }
   ],
   "source": [
    "removed_features = unused_features\n",
    "# print(removed_features)\n",
    "\n",
    "feature_cols = [feature for feature in kobe_data.columns if feature not in removed_features]\n",
    "# print(feature_cols)\n",
    "\n",
    "display(kobe_data[feature_cols].head(5))"
   ]
  },
  {
   "cell_type": "markdown",
   "metadata": {},
   "source": [
    "### Implement One-Hot-Encoding"
   ]
  },
  {
   "cell_type": "code",
   "execution_count": 40,
   "metadata": {},
   "outputs": [],
   "source": [
    "# Features for One-Hot-Encoding\n",
    "OHE_features = ['action_type', 'combined_shot_type', 'shot_type', 'shot_zone_area', 'shot_zone_basic', 'shot_zone_range', 'opponent']"
   ]
  },
  {
   "cell_type": "code",
   "execution_count": 41,
   "metadata": {},
   "outputs": [
    {
     "data": {
      "text/html": [
       "<div>\n",
       "<style scoped>\n",
       "    .dataframe tbody tr th:only-of-type {\n",
       "        vertical-align: middle;\n",
       "    }\n",
       "\n",
       "    .dataframe tbody tr th {\n",
       "        vertical-align: top;\n",
       "    }\n",
       "\n",
       "    .dataframe thead th {\n",
       "        text-align: right;\n",
       "    }\n",
       "</style>\n",
       "<table border=\"1\" class=\"dataframe\">\n",
       "  <thead>\n",
       "    <tr style=\"text-align: right;\">\n",
       "      <th></th>\n",
       "      <th>Alley Oop Dunk Shot</th>\n",
       "      <th>Alley Oop Layup shot</th>\n",
       "      <th>Cutting Finger Roll Layup Shot</th>\n",
       "      <th>Cutting Layup Shot</th>\n",
       "      <th>Driving Bank shot</th>\n",
       "      <th>Driving Dunk Shot</th>\n",
       "      <th>Driving Finger Roll Layup Shot</th>\n",
       "      <th>Driving Finger Roll Shot</th>\n",
       "      <th>Driving Floating Bank Jump Shot</th>\n",
       "      <th>Driving Floating Jump Shot</th>\n",
       "      <th>...</th>\n",
       "      <th>ORL</th>\n",
       "      <th>PHI</th>\n",
       "      <th>PHX</th>\n",
       "      <th>POR</th>\n",
       "      <th>SAC</th>\n",
       "      <th>SAS</th>\n",
       "      <th>SEA</th>\n",
       "      <th>TOR</th>\n",
       "      <th>UTA</th>\n",
       "      <th>VAN</th>\n",
       "    </tr>\n",
       "  </thead>\n",
       "  <tbody>\n",
       "    <tr>\n",
       "      <td>0</td>\n",
       "      <td>0</td>\n",
       "      <td>0</td>\n",
       "      <td>0</td>\n",
       "      <td>0</td>\n",
       "      <td>0</td>\n",
       "      <td>0</td>\n",
       "      <td>0</td>\n",
       "      <td>0</td>\n",
       "      <td>0</td>\n",
       "      <td>0</td>\n",
       "      <td>...</td>\n",
       "      <td>0</td>\n",
       "      <td>0</td>\n",
       "      <td>0</td>\n",
       "      <td>1</td>\n",
       "      <td>0</td>\n",
       "      <td>0</td>\n",
       "      <td>0</td>\n",
       "      <td>0</td>\n",
       "      <td>0</td>\n",
       "      <td>0</td>\n",
       "    </tr>\n",
       "    <tr>\n",
       "      <td>1</td>\n",
       "      <td>0</td>\n",
       "      <td>0</td>\n",
       "      <td>0</td>\n",
       "      <td>0</td>\n",
       "      <td>0</td>\n",
       "      <td>0</td>\n",
       "      <td>0</td>\n",
       "      <td>0</td>\n",
       "      <td>0</td>\n",
       "      <td>0</td>\n",
       "      <td>...</td>\n",
       "      <td>0</td>\n",
       "      <td>0</td>\n",
       "      <td>0</td>\n",
       "      <td>1</td>\n",
       "      <td>0</td>\n",
       "      <td>0</td>\n",
       "      <td>0</td>\n",
       "      <td>0</td>\n",
       "      <td>0</td>\n",
       "      <td>0</td>\n",
       "    </tr>\n",
       "    <tr>\n",
       "      <td>2</td>\n",
       "      <td>0</td>\n",
       "      <td>0</td>\n",
       "      <td>0</td>\n",
       "      <td>0</td>\n",
       "      <td>0</td>\n",
       "      <td>0</td>\n",
       "      <td>0</td>\n",
       "      <td>0</td>\n",
       "      <td>0</td>\n",
       "      <td>0</td>\n",
       "      <td>...</td>\n",
       "      <td>0</td>\n",
       "      <td>0</td>\n",
       "      <td>0</td>\n",
       "      <td>1</td>\n",
       "      <td>0</td>\n",
       "      <td>0</td>\n",
       "      <td>0</td>\n",
       "      <td>0</td>\n",
       "      <td>0</td>\n",
       "      <td>0</td>\n",
       "    </tr>\n",
       "    <tr>\n",
       "      <td>3</td>\n",
       "      <td>0</td>\n",
       "      <td>0</td>\n",
       "      <td>0</td>\n",
       "      <td>0</td>\n",
       "      <td>0</td>\n",
       "      <td>0</td>\n",
       "      <td>0</td>\n",
       "      <td>0</td>\n",
       "      <td>0</td>\n",
       "      <td>0</td>\n",
       "      <td>...</td>\n",
       "      <td>0</td>\n",
       "      <td>0</td>\n",
       "      <td>0</td>\n",
       "      <td>1</td>\n",
       "      <td>0</td>\n",
       "      <td>0</td>\n",
       "      <td>0</td>\n",
       "      <td>0</td>\n",
       "      <td>0</td>\n",
       "      <td>0</td>\n",
       "    </tr>\n",
       "    <tr>\n",
       "      <td>4</td>\n",
       "      <td>0</td>\n",
       "      <td>0</td>\n",
       "      <td>0</td>\n",
       "      <td>0</td>\n",
       "      <td>0</td>\n",
       "      <td>1</td>\n",
       "      <td>0</td>\n",
       "      <td>0</td>\n",
       "      <td>0</td>\n",
       "      <td>0</td>\n",
       "      <td>...</td>\n",
       "      <td>0</td>\n",
       "      <td>0</td>\n",
       "      <td>0</td>\n",
       "      <td>1</td>\n",
       "      <td>0</td>\n",
       "      <td>0</td>\n",
       "      <td>0</td>\n",
       "      <td>0</td>\n",
       "      <td>0</td>\n",
       "      <td>0</td>\n",
       "    </tr>\n",
       "  </tbody>\n",
       "</table>\n",
       "<p>5 rows × 108 columns</p>\n",
       "</div>"
      ],
      "text/plain": [
       "   Alley Oop Dunk Shot  Alley Oop Layup shot  Cutting Finger Roll Layup Shot  \\\n",
       "0                    0                     0                               0   \n",
       "1                    0                     0                               0   \n",
       "2                    0                     0                               0   \n",
       "3                    0                     0                               0   \n",
       "4                    0                     0                               0   \n",
       "\n",
       "   Cutting Layup Shot  Driving Bank shot  Driving Dunk Shot  \\\n",
       "0                   0                  0                  0   \n",
       "1                   0                  0                  0   \n",
       "2                   0                  0                  0   \n",
       "3                   0                  0                  0   \n",
       "4                   0                  0                  1   \n",
       "\n",
       "   Driving Finger Roll Layup Shot  Driving Finger Roll Shot  \\\n",
       "0                               0                         0   \n",
       "1                               0                         0   \n",
       "2                               0                         0   \n",
       "3                               0                         0   \n",
       "4                               0                         0   \n",
       "\n",
       "   Driving Floating Bank Jump Shot  Driving Floating Jump Shot  ...  ORL  PHI  \\\n",
       "0                                0                           0  ...    0    0   \n",
       "1                                0                           0  ...    0    0   \n",
       "2                                0                           0  ...    0    0   \n",
       "3                                0                           0  ...    0    0   \n",
       "4                                0                           0  ...    0    0   \n",
       "\n",
       "   PHX  POR  SAC  SAS  SEA  TOR  UTA  VAN  \n",
       "0    0    1    0    0    0    0    0    0  \n",
       "1    0    1    0    0    0    0    0    0  \n",
       "2    0    1    0    0    0    0    0    0  \n",
       "3    0    1    0    0    0    0    0    0  \n",
       "4    0    1    0    0    0    0    0    0  \n",
       "\n",
       "[5 rows x 108 columns]"
      ]
     },
     "metadata": {},
     "output_type": "display_data"
    }
   ],
   "source": [
    "# import for one hot encoding\n",
    "from sklearn.preprocessing import OneHotEncoder\n",
    "dummies = pd.DataFrame()\n",
    "\n",
    "for feature in OHE_features:\n",
    "    dummies = pd.concat([dummies, pd.get_dummies(kobe_data[feature])], axis = 'columns')\n",
    "    dummies.drop(dummies.columns[[-1,]], axis=1, inplace=True)\n",
    "    \n",
    "display(dummies.head(5))"
   ]
  },
  {
   "cell_type": "code",
   "execution_count": 42,
   "metadata": {},
   "outputs": [
    {
     "data": {
      "text/html": [
       "<div>\n",
       "<style scoped>\n",
       "    .dataframe tbody tr th:only-of-type {\n",
       "        vertical-align: middle;\n",
       "    }\n",
       "\n",
       "    .dataframe tbody tr th {\n",
       "        vertical-align: top;\n",
       "    }\n",
       "\n",
       "    .dataframe thead th {\n",
       "        text-align: right;\n",
       "    }\n",
       "</style>\n",
       "<table border=\"1\" class=\"dataframe\">\n",
       "  <thead>\n",
       "    <tr style=\"text-align: right;\">\n",
       "      <th></th>\n",
       "      <th>action_type</th>\n",
       "      <th>combined_shot_type</th>\n",
       "      <th>lat</th>\n",
       "      <th>loc_x</th>\n",
       "      <th>loc_y</th>\n",
       "      <th>lon</th>\n",
       "      <th>minutes_remaining</th>\n",
       "      <th>period</th>\n",
       "      <th>playoffs</th>\n",
       "      <th>seconds_remaining</th>\n",
       "      <th>...</th>\n",
       "      <th>ORL</th>\n",
       "      <th>PHI</th>\n",
       "      <th>PHX</th>\n",
       "      <th>POR</th>\n",
       "      <th>SAC</th>\n",
       "      <th>SAS</th>\n",
       "      <th>SEA</th>\n",
       "      <th>TOR</th>\n",
       "      <th>UTA</th>\n",
       "      <th>VAN</th>\n",
       "    </tr>\n",
       "  </thead>\n",
       "  <tbody>\n",
       "    <tr>\n",
       "      <td>0</td>\n",
       "      <td>Jump Shot</td>\n",
       "      <td>Jump Shot</td>\n",
       "      <td>33.9723</td>\n",
       "      <td>167</td>\n",
       "      <td>72</td>\n",
       "      <td>-118.1028</td>\n",
       "      <td>10</td>\n",
       "      <td>1</td>\n",
       "      <td>0</td>\n",
       "      <td>27</td>\n",
       "      <td>...</td>\n",
       "      <td>0</td>\n",
       "      <td>0</td>\n",
       "      <td>0</td>\n",
       "      <td>1</td>\n",
       "      <td>0</td>\n",
       "      <td>0</td>\n",
       "      <td>0</td>\n",
       "      <td>0</td>\n",
       "      <td>0</td>\n",
       "      <td>0</td>\n",
       "    </tr>\n",
       "    <tr>\n",
       "      <td>1</td>\n",
       "      <td>Jump Shot</td>\n",
       "      <td>Jump Shot</td>\n",
       "      <td>34.0443</td>\n",
       "      <td>-157</td>\n",
       "      <td>0</td>\n",
       "      <td>-118.4268</td>\n",
       "      <td>10</td>\n",
       "      <td>1</td>\n",
       "      <td>0</td>\n",
       "      <td>22</td>\n",
       "      <td>...</td>\n",
       "      <td>0</td>\n",
       "      <td>0</td>\n",
       "      <td>0</td>\n",
       "      <td>1</td>\n",
       "      <td>0</td>\n",
       "      <td>0</td>\n",
       "      <td>0</td>\n",
       "      <td>0</td>\n",
       "      <td>0</td>\n",
       "      <td>0</td>\n",
       "    </tr>\n",
       "    <tr>\n",
       "      <td>2</td>\n",
       "      <td>Jump Shot</td>\n",
       "      <td>Jump Shot</td>\n",
       "      <td>33.9093</td>\n",
       "      <td>-101</td>\n",
       "      <td>135</td>\n",
       "      <td>-118.3708</td>\n",
       "      <td>7</td>\n",
       "      <td>1</td>\n",
       "      <td>0</td>\n",
       "      <td>45</td>\n",
       "      <td>...</td>\n",
       "      <td>0</td>\n",
       "      <td>0</td>\n",
       "      <td>0</td>\n",
       "      <td>1</td>\n",
       "      <td>0</td>\n",
       "      <td>0</td>\n",
       "      <td>0</td>\n",
       "      <td>0</td>\n",
       "      <td>0</td>\n",
       "      <td>0</td>\n",
       "    </tr>\n",
       "    <tr>\n",
       "      <td>3</td>\n",
       "      <td>Jump Shot</td>\n",
       "      <td>Jump Shot</td>\n",
       "      <td>33.8693</td>\n",
       "      <td>138</td>\n",
       "      <td>175</td>\n",
       "      <td>-118.1318</td>\n",
       "      <td>6</td>\n",
       "      <td>1</td>\n",
       "      <td>0</td>\n",
       "      <td>52</td>\n",
       "      <td>...</td>\n",
       "      <td>0</td>\n",
       "      <td>0</td>\n",
       "      <td>0</td>\n",
       "      <td>1</td>\n",
       "      <td>0</td>\n",
       "      <td>0</td>\n",
       "      <td>0</td>\n",
       "      <td>0</td>\n",
       "      <td>0</td>\n",
       "      <td>0</td>\n",
       "    </tr>\n",
       "    <tr>\n",
       "      <td>4</td>\n",
       "      <td>Driving Dunk Shot</td>\n",
       "      <td>Dunk</td>\n",
       "      <td>34.0443</td>\n",
       "      <td>0</td>\n",
       "      <td>0</td>\n",
       "      <td>-118.2698</td>\n",
       "      <td>6</td>\n",
       "      <td>2</td>\n",
       "      <td>0</td>\n",
       "      <td>19</td>\n",
       "      <td>...</td>\n",
       "      <td>0</td>\n",
       "      <td>0</td>\n",
       "      <td>0</td>\n",
       "      <td>1</td>\n",
       "      <td>0</td>\n",
       "      <td>0</td>\n",
       "      <td>0</td>\n",
       "      <td>0</td>\n",
       "      <td>0</td>\n",
       "      <td>0</td>\n",
       "    </tr>\n",
       "  </tbody>\n",
       "</table>\n",
       "<p>5 rows × 126 columns</p>\n",
       "</div>"
      ],
      "text/plain": [
       "         action_type combined_shot_type      lat  loc_x  loc_y       lon  \\\n",
       "0          Jump Shot          Jump Shot  33.9723    167     72 -118.1028   \n",
       "1          Jump Shot          Jump Shot  34.0443   -157      0 -118.4268   \n",
       "2          Jump Shot          Jump Shot  33.9093   -101    135 -118.3708   \n",
       "3          Jump Shot          Jump Shot  33.8693    138    175 -118.1318   \n",
       "4  Driving Dunk Shot               Dunk  34.0443      0      0 -118.2698   \n",
       "\n",
       "   minutes_remaining  period  playoffs  seconds_remaining  ...  ORL  PHI PHX  \\\n",
       "0                 10       1         0                 27  ...    0    0   0   \n",
       "1                 10       1         0                 22  ...    0    0   0   \n",
       "2                  7       1         0                 45  ...    0    0   0   \n",
       "3                  6       1         0                 52  ...    0    0   0   \n",
       "4                  6       2         0                 19  ...    0    0   0   \n",
       "\n",
       "  POR SAC SAS SEA  TOR  UTA  VAN  \n",
       "0   1   0   0   0    0    0    0  \n",
       "1   1   0   0   0    0    0    0  \n",
       "2   1   0   0   0    0    0    0  \n",
       "3   1   0   0   0    0    0    0  \n",
       "4   1   0   0   0    0    0    0  \n",
       "\n",
       "[5 rows x 126 columns]"
      ]
     },
     "metadata": {},
     "output_type": "display_data"
    }
   ],
   "source": [
    "merged = pd.concat([kobe_data[feature_cols], dummies], axis='columns')\n",
    "\n",
    "display(merged.head(5))"
   ]
  },
  {
   "cell_type": "code",
   "execution_count": 43,
   "metadata": {},
   "outputs": [
    {
     "data": {
      "text/html": [
       "<div>\n",
       "<style scoped>\n",
       "    .dataframe tbody tr th:only-of-type {\n",
       "        vertical-align: middle;\n",
       "    }\n",
       "\n",
       "    .dataframe tbody tr th {\n",
       "        vertical-align: top;\n",
       "    }\n",
       "\n",
       "    .dataframe thead th {\n",
       "        text-align: right;\n",
       "    }\n",
       "</style>\n",
       "<table border=\"1\" class=\"dataframe\">\n",
       "  <thead>\n",
       "    <tr style=\"text-align: right;\">\n",
       "      <th></th>\n",
       "      <th>lat</th>\n",
       "      <th>loc_x</th>\n",
       "      <th>loc_y</th>\n",
       "      <th>lon</th>\n",
       "      <th>minutes_remaining</th>\n",
       "      <th>period</th>\n",
       "      <th>playoffs</th>\n",
       "      <th>seconds_remaining</th>\n",
       "      <th>shot_distance</th>\n",
       "      <th>shot_made_flag</th>\n",
       "      <th>...</th>\n",
       "      <th>ORL</th>\n",
       "      <th>PHI</th>\n",
       "      <th>PHX</th>\n",
       "      <th>POR</th>\n",
       "      <th>SAC</th>\n",
       "      <th>SAS</th>\n",
       "      <th>SEA</th>\n",
       "      <th>TOR</th>\n",
       "      <th>UTA</th>\n",
       "      <th>VAN</th>\n",
       "    </tr>\n",
       "  </thead>\n",
       "  <tbody>\n",
       "    <tr>\n",
       "      <td>0</td>\n",
       "      <td>33.9723</td>\n",
       "      <td>167</td>\n",
       "      <td>72</td>\n",
       "      <td>-118.1028</td>\n",
       "      <td>10</td>\n",
       "      <td>1</td>\n",
       "      <td>0</td>\n",
       "      <td>27</td>\n",
       "      <td>18</td>\n",
       "      <td>NaN</td>\n",
       "      <td>...</td>\n",
       "      <td>0</td>\n",
       "      <td>0</td>\n",
       "      <td>0</td>\n",
       "      <td>1</td>\n",
       "      <td>0</td>\n",
       "      <td>0</td>\n",
       "      <td>0</td>\n",
       "      <td>0</td>\n",
       "      <td>0</td>\n",
       "      <td>0</td>\n",
       "    </tr>\n",
       "    <tr>\n",
       "      <td>1</td>\n",
       "      <td>34.0443</td>\n",
       "      <td>-157</td>\n",
       "      <td>0</td>\n",
       "      <td>-118.4268</td>\n",
       "      <td>10</td>\n",
       "      <td>1</td>\n",
       "      <td>0</td>\n",
       "      <td>22</td>\n",
       "      <td>15</td>\n",
       "      <td>0.0</td>\n",
       "      <td>...</td>\n",
       "      <td>0</td>\n",
       "      <td>0</td>\n",
       "      <td>0</td>\n",
       "      <td>1</td>\n",
       "      <td>0</td>\n",
       "      <td>0</td>\n",
       "      <td>0</td>\n",
       "      <td>0</td>\n",
       "      <td>0</td>\n",
       "      <td>0</td>\n",
       "    </tr>\n",
       "    <tr>\n",
       "      <td>2</td>\n",
       "      <td>33.9093</td>\n",
       "      <td>-101</td>\n",
       "      <td>135</td>\n",
       "      <td>-118.3708</td>\n",
       "      <td>7</td>\n",
       "      <td>1</td>\n",
       "      <td>0</td>\n",
       "      <td>45</td>\n",
       "      <td>16</td>\n",
       "      <td>1.0</td>\n",
       "      <td>...</td>\n",
       "      <td>0</td>\n",
       "      <td>0</td>\n",
       "      <td>0</td>\n",
       "      <td>1</td>\n",
       "      <td>0</td>\n",
       "      <td>0</td>\n",
       "      <td>0</td>\n",
       "      <td>0</td>\n",
       "      <td>0</td>\n",
       "      <td>0</td>\n",
       "    </tr>\n",
       "    <tr>\n",
       "      <td>3</td>\n",
       "      <td>33.8693</td>\n",
       "      <td>138</td>\n",
       "      <td>175</td>\n",
       "      <td>-118.1318</td>\n",
       "      <td>6</td>\n",
       "      <td>1</td>\n",
       "      <td>0</td>\n",
       "      <td>52</td>\n",
       "      <td>22</td>\n",
       "      <td>0.0</td>\n",
       "      <td>...</td>\n",
       "      <td>0</td>\n",
       "      <td>0</td>\n",
       "      <td>0</td>\n",
       "      <td>1</td>\n",
       "      <td>0</td>\n",
       "      <td>0</td>\n",
       "      <td>0</td>\n",
       "      <td>0</td>\n",
       "      <td>0</td>\n",
       "      <td>0</td>\n",
       "    </tr>\n",
       "    <tr>\n",
       "      <td>4</td>\n",
       "      <td>34.0443</td>\n",
       "      <td>0</td>\n",
       "      <td>0</td>\n",
       "      <td>-118.2698</td>\n",
       "      <td>6</td>\n",
       "      <td>2</td>\n",
       "      <td>0</td>\n",
       "      <td>19</td>\n",
       "      <td>0</td>\n",
       "      <td>1.0</td>\n",
       "      <td>...</td>\n",
       "      <td>0</td>\n",
       "      <td>0</td>\n",
       "      <td>0</td>\n",
       "      <td>1</td>\n",
       "      <td>0</td>\n",
       "      <td>0</td>\n",
       "      <td>0</td>\n",
       "      <td>0</td>\n",
       "      <td>0</td>\n",
       "      <td>0</td>\n",
       "    </tr>\n",
       "  </tbody>\n",
       "</table>\n",
       "<p>5 rows × 119 columns</p>\n",
       "</div>"
      ],
      "text/plain": [
       "       lat  loc_x  loc_y       lon  minutes_remaining  period  playoffs  \\\n",
       "0  33.9723    167     72 -118.1028                 10       1         0   \n",
       "1  34.0443   -157      0 -118.4268                 10       1         0   \n",
       "2  33.9093   -101    135 -118.3708                  7       1         0   \n",
       "3  33.8693    138    175 -118.1318                  6       1         0   \n",
       "4  34.0443      0      0 -118.2698                  6       2         0   \n",
       "\n",
       "   seconds_remaining  shot_distance  shot_made_flag  ...  ORL  PHI  PHX  POR  \\\n",
       "0                 27             18             NaN  ...    0    0    0    1   \n",
       "1                 22             15             0.0  ...    0    0    0    1   \n",
       "2                 45             16             1.0  ...    0    0    0    1   \n",
       "3                 52             22             0.0  ...    0    0    0    1   \n",
       "4                 19              0             1.0  ...    0    0    0    1   \n",
       "\n",
       "   SAC  SAS  SEA  TOR  UTA  VAN  \n",
       "0    0    0    0    0    0    0  \n",
       "1    0    0    0    0    0    0  \n",
       "2    0    0    0    0    0    0  \n",
       "3    0    0    0    0    0    0  \n",
       "4    0    0    0    0    0    0  \n",
       "\n",
       "[5 rows x 119 columns]"
      ]
     },
     "metadata": {},
     "output_type": "display_data"
    }
   ],
   "source": [
    "final_OHE = merged.drop(OHE_features, axis='columns')\n",
    "final_features = [final_OHE.columns]\n",
    "display(final_OHE.head(5))"
   ]
  },
  {
   "cell_type": "markdown",
   "metadata": {},
   "source": [
    "#### Y value splits"
   ]
  },
  {
   "cell_type": "code",
   "execution_count": 44,
   "metadata": {},
   "outputs": [
    {
     "data": {
      "text/plain": [
       "(25697, 1)"
      ]
     },
     "execution_count": 44,
     "metadata": {},
     "output_type": "execute_result"
    }
   ],
   "source": [
    "# Data frame but with the prediction rows removed (rows with a Nan value in the target column)\n",
    "testing_data = final_OHE.dropna()\n",
    "y = testing_data[target]\n",
    "y.shape"
   ]
  },
  {
   "cell_type": "markdown",
   "metadata": {},
   "source": [
    "#### X value splits"
   ]
  },
  {
   "cell_type": "code",
   "execution_count": 45,
   "metadata": {},
   "outputs": [
    {
     "data": {
      "text/plain": [
       "(25697, 117)"
      ]
     },
     "execution_count": 45,
     "metadata": {},
     "output_type": "execute_result"
    }
   ],
   "source": [
    "# Data with all prediction data dropped (so that we don't learn from it)\n",
    "X = testing_data.drop(['shot_id', 'shot_made_flag'], axis=1)\n",
    "X.shape\n"
   ]
  },
  {
   "cell_type": "markdown",
   "metadata": {},
   "source": [
    "#### Prediction data split.\n",
    "#### DO NOT USE IN TRAINING!\n",
    "#### This is for submission"
   ]
  },
  {
   "cell_type": "code",
   "execution_count": 47,
   "metadata": {},
   "outputs": [
    {
     "data": {
      "text/html": [
       "<div>\n",
       "<style scoped>\n",
       "    .dataframe tbody tr th:only-of-type {\n",
       "        vertical-align: middle;\n",
       "    }\n",
       "\n",
       "    .dataframe tbody tr th {\n",
       "        vertical-align: top;\n",
       "    }\n",
       "\n",
       "    .dataframe thead th {\n",
       "        text-align: right;\n",
       "    }\n",
       "</style>\n",
       "<table border=\"1\" class=\"dataframe\">\n",
       "  <thead>\n",
       "    <tr style=\"text-align: right;\">\n",
       "      <th></th>\n",
       "      <th>lat</th>\n",
       "      <th>loc_x</th>\n",
       "      <th>loc_y</th>\n",
       "      <th>lon</th>\n",
       "      <th>minutes_remaining</th>\n",
       "      <th>period</th>\n",
       "      <th>playoffs</th>\n",
       "      <th>seconds_remaining</th>\n",
       "      <th>shot_distance</th>\n",
       "      <th>Alley Oop Dunk Shot</th>\n",
       "      <th>...</th>\n",
       "      <th>ORL</th>\n",
       "      <th>PHI</th>\n",
       "      <th>PHX</th>\n",
       "      <th>POR</th>\n",
       "      <th>SAC</th>\n",
       "      <th>SAS</th>\n",
       "      <th>SEA</th>\n",
       "      <th>TOR</th>\n",
       "      <th>UTA</th>\n",
       "      <th>VAN</th>\n",
       "    </tr>\n",
       "  </thead>\n",
       "  <tbody>\n",
       "    <tr>\n",
       "      <td>0</td>\n",
       "      <td>33.9723</td>\n",
       "      <td>167</td>\n",
       "      <td>72</td>\n",
       "      <td>-118.1028</td>\n",
       "      <td>10</td>\n",
       "      <td>1</td>\n",
       "      <td>0</td>\n",
       "      <td>27</td>\n",
       "      <td>18</td>\n",
       "      <td>0</td>\n",
       "      <td>...</td>\n",
       "      <td>0</td>\n",
       "      <td>0</td>\n",
       "      <td>0</td>\n",
       "      <td>1</td>\n",
       "      <td>0</td>\n",
       "      <td>0</td>\n",
       "      <td>0</td>\n",
       "      <td>0</td>\n",
       "      <td>0</td>\n",
       "      <td>0</td>\n",
       "    </tr>\n",
       "    <tr>\n",
       "      <td>7</td>\n",
       "      <td>34.0163</td>\n",
       "      <td>1</td>\n",
       "      <td>28</td>\n",
       "      <td>-118.2688</td>\n",
       "      <td>8</td>\n",
       "      <td>3</td>\n",
       "      <td>0</td>\n",
       "      <td>5</td>\n",
       "      <td>2</td>\n",
       "      <td>0</td>\n",
       "      <td>...</td>\n",
       "      <td>0</td>\n",
       "      <td>0</td>\n",
       "      <td>0</td>\n",
       "      <td>1</td>\n",
       "      <td>0</td>\n",
       "      <td>0</td>\n",
       "      <td>0</td>\n",
       "      <td>0</td>\n",
       "      <td>0</td>\n",
       "      <td>0</td>\n",
       "    </tr>\n",
       "    <tr>\n",
       "      <td>16</td>\n",
       "      <td>34.0443</td>\n",
       "      <td>0</td>\n",
       "      <td>0</td>\n",
       "      <td>-118.2698</td>\n",
       "      <td>0</td>\n",
       "      <td>1</td>\n",
       "      <td>0</td>\n",
       "      <td>1</td>\n",
       "      <td>0</td>\n",
       "      <td>0</td>\n",
       "      <td>...</td>\n",
       "      <td>0</td>\n",
       "      <td>0</td>\n",
       "      <td>0</td>\n",
       "      <td>0</td>\n",
       "      <td>0</td>\n",
       "      <td>0</td>\n",
       "      <td>0</td>\n",
       "      <td>0</td>\n",
       "      <td>1</td>\n",
       "      <td>0</td>\n",
       "    </tr>\n",
       "    <tr>\n",
       "      <td>19</td>\n",
       "      <td>34.0443</td>\n",
       "      <td>0</td>\n",
       "      <td>0</td>\n",
       "      <td>-118.2698</td>\n",
       "      <td>10</td>\n",
       "      <td>3</td>\n",
       "      <td>0</td>\n",
       "      <td>46</td>\n",
       "      <td>0</td>\n",
       "      <td>0</td>\n",
       "      <td>...</td>\n",
       "      <td>0</td>\n",
       "      <td>0</td>\n",
       "      <td>0</td>\n",
       "      <td>0</td>\n",
       "      <td>0</td>\n",
       "      <td>0</td>\n",
       "      <td>0</td>\n",
       "      <td>0</td>\n",
       "      <td>1</td>\n",
       "      <td>0</td>\n",
       "    </tr>\n",
       "    <tr>\n",
       "      <td>32</td>\n",
       "      <td>33.9683</td>\n",
       "      <td>163</td>\n",
       "      <td>76</td>\n",
       "      <td>-118.1068</td>\n",
       "      <td>11</td>\n",
       "      <td>1</td>\n",
       "      <td>0</td>\n",
       "      <td>26</td>\n",
       "      <td>17</td>\n",
       "      <td>0</td>\n",
       "      <td>...</td>\n",
       "      <td>0</td>\n",
       "      <td>0</td>\n",
       "      <td>0</td>\n",
       "      <td>0</td>\n",
       "      <td>0</td>\n",
       "      <td>0</td>\n",
       "      <td>0</td>\n",
       "      <td>0</td>\n",
       "      <td>0</td>\n",
       "      <td>1</td>\n",
       "    </tr>\n",
       "    <tr>\n",
       "      <td>...</td>\n",
       "      <td>...</td>\n",
       "      <td>...</td>\n",
       "      <td>...</td>\n",
       "      <td>...</td>\n",
       "      <td>...</td>\n",
       "      <td>...</td>\n",
       "      <td>...</td>\n",
       "      <td>...</td>\n",
       "      <td>...</td>\n",
       "      <td>...</td>\n",
       "      <td>...</td>\n",
       "      <td>...</td>\n",
       "      <td>...</td>\n",
       "      <td>...</td>\n",
       "      <td>...</td>\n",
       "      <td>...</td>\n",
       "      <td>...</td>\n",
       "      <td>...</td>\n",
       "      <td>...</td>\n",
       "      <td>...</td>\n",
       "      <td>...</td>\n",
       "    </tr>\n",
       "    <tr>\n",
       "      <td>30668</td>\n",
       "      <td>33.8223</td>\n",
       "      <td>-23</td>\n",
       "      <td>222</td>\n",
       "      <td>-118.2928</td>\n",
       "      <td>7</td>\n",
       "      <td>4</td>\n",
       "      <td>1</td>\n",
       "      <td>27</td>\n",
       "      <td>22</td>\n",
       "      <td>0</td>\n",
       "      <td>...</td>\n",
       "      <td>0</td>\n",
       "      <td>0</td>\n",
       "      <td>0</td>\n",
       "      <td>0</td>\n",
       "      <td>0</td>\n",
       "      <td>0</td>\n",
       "      <td>0</td>\n",
       "      <td>0</td>\n",
       "      <td>0</td>\n",
       "      <td>0</td>\n",
       "    </tr>\n",
       "    <tr>\n",
       "      <td>30680</td>\n",
       "      <td>34.0443</td>\n",
       "      <td>0</td>\n",
       "      <td>0</td>\n",
       "      <td>-118.2698</td>\n",
       "      <td>0</td>\n",
       "      <td>2</td>\n",
       "      <td>1</td>\n",
       "      <td>40</td>\n",
       "      <td>0</td>\n",
       "      <td>0</td>\n",
       "      <td>...</td>\n",
       "      <td>0</td>\n",
       "      <td>0</td>\n",
       "      <td>0</td>\n",
       "      <td>0</td>\n",
       "      <td>0</td>\n",
       "      <td>0</td>\n",
       "      <td>0</td>\n",
       "      <td>0</td>\n",
       "      <td>0</td>\n",
       "      <td>0</td>\n",
       "    </tr>\n",
       "    <tr>\n",
       "      <td>30682</td>\n",
       "      <td>33.9963</td>\n",
       "      <td>-68</td>\n",
       "      <td>48</td>\n",
       "      <td>-118.3378</td>\n",
       "      <td>11</td>\n",
       "      <td>3</td>\n",
       "      <td>1</td>\n",
       "      <td>30</td>\n",
       "      <td>8</td>\n",
       "      <td>0</td>\n",
       "      <td>...</td>\n",
       "      <td>0</td>\n",
       "      <td>0</td>\n",
       "      <td>0</td>\n",
       "      <td>0</td>\n",
       "      <td>0</td>\n",
       "      <td>0</td>\n",
       "      <td>0</td>\n",
       "      <td>0</td>\n",
       "      <td>0</td>\n",
       "      <td>0</td>\n",
       "    </tr>\n",
       "    <tr>\n",
       "      <td>30686</td>\n",
       "      <td>33.9513</td>\n",
       "      <td>16</td>\n",
       "      <td>93</td>\n",
       "      <td>-118.2538</td>\n",
       "      <td>5</td>\n",
       "      <td>3</td>\n",
       "      <td>1</td>\n",
       "      <td>37</td>\n",
       "      <td>9</td>\n",
       "      <td>0</td>\n",
       "      <td>...</td>\n",
       "      <td>0</td>\n",
       "      <td>0</td>\n",
       "      <td>0</td>\n",
       "      <td>0</td>\n",
       "      <td>0</td>\n",
       "      <td>0</td>\n",
       "      <td>0</td>\n",
       "      <td>0</td>\n",
       "      <td>0</td>\n",
       "      <td>0</td>\n",
       "    </tr>\n",
       "    <tr>\n",
       "      <td>30693</td>\n",
       "      <td>34.0443</td>\n",
       "      <td>0</td>\n",
       "      <td>0</td>\n",
       "      <td>-118.2698</td>\n",
       "      <td>6</td>\n",
       "      <td>4</td>\n",
       "      <td>1</td>\n",
       "      <td>5</td>\n",
       "      <td>0</td>\n",
       "      <td>0</td>\n",
       "      <td>...</td>\n",
       "      <td>0</td>\n",
       "      <td>0</td>\n",
       "      <td>0</td>\n",
       "      <td>0</td>\n",
       "      <td>0</td>\n",
       "      <td>0</td>\n",
       "      <td>0</td>\n",
       "      <td>0</td>\n",
       "      <td>0</td>\n",
       "      <td>0</td>\n",
       "    </tr>\n",
       "  </tbody>\n",
       "</table>\n",
       "<p>5000 rows × 117 columns</p>\n",
       "</div>"
      ],
      "text/plain": [
       "           lat  loc_x  loc_y       lon  minutes_remaining  period  playoffs  \\\n",
       "0      33.9723    167     72 -118.1028                 10       1         0   \n",
       "7      34.0163      1     28 -118.2688                  8       3         0   \n",
       "16     34.0443      0      0 -118.2698                  0       1         0   \n",
       "19     34.0443      0      0 -118.2698                 10       3         0   \n",
       "32     33.9683    163     76 -118.1068                 11       1         0   \n",
       "...        ...    ...    ...       ...                ...     ...       ...   \n",
       "30668  33.8223    -23    222 -118.2928                  7       4         1   \n",
       "30680  34.0443      0      0 -118.2698                  0       2         1   \n",
       "30682  33.9963    -68     48 -118.3378                 11       3         1   \n",
       "30686  33.9513     16     93 -118.2538                  5       3         1   \n",
       "30693  34.0443      0      0 -118.2698                  6       4         1   \n",
       "\n",
       "       seconds_remaining  shot_distance  Alley Oop Dunk Shot  ...  ORL  PHI  \\\n",
       "0                     27             18                    0  ...    0    0   \n",
       "7                      5              2                    0  ...    0    0   \n",
       "16                     1              0                    0  ...    0    0   \n",
       "19                    46              0                    0  ...    0    0   \n",
       "32                    26             17                    0  ...    0    0   \n",
       "...                  ...            ...                  ...  ...  ...  ...   \n",
       "30668                 27             22                    0  ...    0    0   \n",
       "30680                 40              0                    0  ...    0    0   \n",
       "30682                 30              8                    0  ...    0    0   \n",
       "30686                 37              9                    0  ...    0    0   \n",
       "30693                  5              0                    0  ...    0    0   \n",
       "\n",
       "       PHX  POR  SAC  SAS  SEA  TOR  UTA  VAN  \n",
       "0        0    1    0    0    0    0    0    0  \n",
       "7        0    1    0    0    0    0    0    0  \n",
       "16       0    0    0    0    0    0    1    0  \n",
       "19       0    0    0    0    0    0    1    0  \n",
       "32       0    0    0    0    0    0    0    1  \n",
       "...    ...  ...  ...  ...  ...  ...  ...  ...  \n",
       "30668    0    0    0    0    0    0    0    0  \n",
       "30680    0    0    0    0    0    0    0    0  \n",
       "30682    0    0    0    0    0    0    0    0  \n",
       "30686    0    0    0    0    0    0    0    0  \n",
       "30693    0    0    0    0    0    0    0    0  \n",
       "\n",
       "[5000 rows x 117 columns]"
      ]
     },
     "metadata": {},
     "output_type": "display_data"
    }
   ],
   "source": [
    "prediction_data = final_OHE[final_OHE['shot_made_flag'].isnull()]\n",
    "final_prediction_data = prediction_data.drop(['shot_id', 'shot_made_flag'], axis=1)\n",
    "display(final_prediction_data)\n",
    "\n",
    "# Second way to write this\n",
    "# nan_rows = kobe_data[kobe_data[target].isnull().any(1)]\n",
    "# print(nan_rows)"
   ]
  },
  {
   "cell_type": "code",
   "execution_count": null,
   "metadata": {},
   "outputs": [],
   "source": []
  },
  {
   "cell_type": "markdown",
   "metadata": {},
   "source": [
    "### Finding the accuracy of KNN using all features after OHE"
   ]
  },
  {
   "cell_type": "code",
   "execution_count": 48,
   "metadata": {},
   "outputs": [],
   "source": [
    "from sklearn.neighbors import KNeighborsClassifier\n",
    "from sklearn.model_selection import train_test_split"
   ]
  },
  {
   "cell_type": "code",
   "execution_count": 49,
   "metadata": {},
   "outputs": [],
   "source": [
    "X_train, X_test, y_train, y_test = train_test_split(X, y.values.ravel(), test_size=0.4, random_state=10)"
   ]
  },
  {
   "cell_type": "code",
   "execution_count": 50,
   "metadata": {},
   "outputs": [],
   "source": [
    "k = 3\n",
    "knn = KNeighborsClassifier(n_neighbors=k)"
   ]
  },
  {
   "cell_type": "code",
   "execution_count": 51,
   "metadata": {},
   "outputs": [
    {
     "data": {
      "text/plain": [
       "KNeighborsClassifier(algorithm='auto', leaf_size=30, metric='minkowski',\n",
       "                     metric_params=None, n_jobs=None, n_neighbors=3, p=2,\n",
       "                     weights='uniform')"
      ]
     },
     "execution_count": 51,
     "metadata": {},
     "output_type": "execute_result"
    }
   ],
   "source": [
    "knn.fit(X_train, y_train)"
   ]
  },
  {
   "cell_type": "code",
   "execution_count": 52,
   "metadata": {},
   "outputs": [],
   "source": [
    "y_predict = knn.predict(X_test)"
   ]
  },
  {
   "cell_type": "code",
   "execution_count": 61,
   "metadata": {},
   "outputs": [
    {
     "name": "stdout",
     "output_type": "stream",
     "text": [
      "0.5584200797742971\n"
     ]
    }
   ],
   "source": [
    "from sklearn.metrics import accuracy_score\n",
    "\n",
    "accuracy = accuracy_score(y_test, y_predict)\n",
    "\n",
    "print(accuracy)"
   ]
  },
  {
   "cell_type": "markdown",
   "metadata": {},
   "source": [
    "### Finding the best accuracy using Random Forest using OHE data"
   ]
  },
  {
   "cell_type": "code",
   "execution_count": 75,
   "metadata": {},
   "outputs": [
    {
     "data": {
      "text/plain": [
       "RandomForestClassifier(bootstrap=True, class_weight=None, criterion='gini',\n",
       "                       max_depth=None, max_features='auto', max_leaf_nodes=None,\n",
       "                       min_impurity_decrease=0.0, min_impurity_split=None,\n",
       "                       min_samples_leaf=1, min_samples_split=2,\n",
       "                       min_weight_fraction_leaf=0.0, n_estimators=1000,\n",
       "                       n_jobs=None, oob_score=False, random_state=3, verbose=0,\n",
       "                       warm_start=False)"
      ]
     },
     "execution_count": 75,
     "metadata": {},
     "output_type": "execute_result"
    }
   ],
   "source": [
    "from sklearn.ensemble import RandomForestClassifier\n",
    "\n",
    "my_RandomForest = RandomForestClassifier(n_estimators = 1000, bootstrap = True, random_state=3)\n",
    "\n",
    "my_RandomForest.fit(X_train, y_train)"
   ]
  },
  {
   "cell_type": "code",
   "execution_count": 76,
   "metadata": {},
   "outputs": [
    {
     "data": {
      "text/plain": [
       "array([0., 0., 0., ..., 1., 0., 0.])"
      ]
     },
     "metadata": {},
     "output_type": "display_data"
    }
   ],
   "source": [
    "y_predict_rf = my_RandomForest.predict(X_test)\n",
    "display(y_predict_rf)"
   ]
  },
  {
   "cell_type": "code",
   "execution_count": 77,
   "metadata": {
    "scrolled": true
   },
   "outputs": [
    {
     "name": "stdout",
     "output_type": "stream",
     "text": [
      "0.6599863799980543\n"
     ]
    }
   ],
   "source": [
    "rf_accuracy = accuracy_score(y_test, y_predict_rf)\n",
    "\n",
    "print(rf_accuracy)"
   ]
  },
  {
   "cell_type": "markdown",
   "metadata": {},
   "source": [
    "#### The accuracy of Random Forest Model using all features after OHE is 66%"
   ]
  },
  {
   "cell_type": "markdown",
   "metadata": {},
   "source": [
    "### Set up final Prediction"
   ]
  },
  {
   "cell_type": "code",
   "execution_count": 100,
   "metadata": {},
   "outputs": [
    {
     "data": {
      "text/plain": [
       "array([0., 0., 1., ..., 1., 1., 0.])"
      ]
     },
     "metadata": {},
     "output_type": "display_data"
    }
   ],
   "source": [
    "final_predict_rf = my_RandomForest.predict(final_prediction_data)\n",
    "display(final_predict_rf)"
   ]
  },
  {
   "cell_type": "markdown",
   "metadata": {},
   "source": [
    "### Store prediction into CSV"
   ]
  },
  {
   "cell_type": "code",
   "execution_count": 79,
   "metadata": {},
   "outputs": [
    {
     "data": {
      "text/html": [
       "<div>\n",
       "<style scoped>\n",
       "    .dataframe tbody tr th:only-of-type {\n",
       "        vertical-align: middle;\n",
       "    }\n",
       "\n",
       "    .dataframe tbody tr th {\n",
       "        vertical-align: top;\n",
       "    }\n",
       "\n",
       "    .dataframe thead th {\n",
       "        text-align: right;\n",
       "    }\n",
       "</style>\n",
       "<table border=\"1\" class=\"dataframe\">\n",
       "  <thead>\n",
       "    <tr style=\"text-align: right;\">\n",
       "      <th></th>\n",
       "      <th>shot_id</th>\n",
       "      <th>shot_made_flag</th>\n",
       "    </tr>\n",
       "  </thead>\n",
       "  <tbody>\n",
       "    <tr>\n",
       "      <td>0</td>\n",
       "      <td>1</td>\n",
       "      <td>0.0</td>\n",
       "    </tr>\n",
       "    <tr>\n",
       "      <td>7</td>\n",
       "      <td>8</td>\n",
       "      <td>0.0</td>\n",
       "    </tr>\n",
       "    <tr>\n",
       "      <td>16</td>\n",
       "      <td>17</td>\n",
       "      <td>1.0</td>\n",
       "    </tr>\n",
       "    <tr>\n",
       "      <td>19</td>\n",
       "      <td>20</td>\n",
       "      <td>1.0</td>\n",
       "    </tr>\n",
       "    <tr>\n",
       "      <td>32</td>\n",
       "      <td>33</td>\n",
       "      <td>0.0</td>\n",
       "    </tr>\n",
       "    <tr>\n",
       "      <td>...</td>\n",
       "      <td>...</td>\n",
       "      <td>...</td>\n",
       "    </tr>\n",
       "    <tr>\n",
       "      <td>30668</td>\n",
       "      <td>30669</td>\n",
       "      <td>0.0</td>\n",
       "    </tr>\n",
       "    <tr>\n",
       "      <td>30680</td>\n",
       "      <td>30681</td>\n",
       "      <td>0.0</td>\n",
       "    </tr>\n",
       "    <tr>\n",
       "      <td>30682</td>\n",
       "      <td>30683</td>\n",
       "      <td>1.0</td>\n",
       "    </tr>\n",
       "    <tr>\n",
       "      <td>30686</td>\n",
       "      <td>30687</td>\n",
       "      <td>1.0</td>\n",
       "    </tr>\n",
       "    <tr>\n",
       "      <td>30693</td>\n",
       "      <td>30694</td>\n",
       "      <td>0.0</td>\n",
       "    </tr>\n",
       "  </tbody>\n",
       "</table>\n",
       "<p>5000 rows × 2 columns</p>\n",
       "</div>"
      ],
      "text/plain": [
       "       shot_id  shot_made_flag\n",
       "0            1             0.0\n",
       "7            8             0.0\n",
       "16          17             1.0\n",
       "19          20             1.0\n",
       "32          33             0.0\n",
       "...        ...             ...\n",
       "30668    30669             0.0\n",
       "30680    30681             0.0\n",
       "30682    30683             1.0\n",
       "30686    30687             1.0\n",
       "30693    30694             0.0\n",
       "\n",
       "[5000 rows x 2 columns]"
      ]
     },
     "metadata": {},
     "output_type": "display_data"
    }
   ],
   "source": [
    "rf_submission = pd.DataFrame({'shot_id':prediction_data['shot_id'],'shot_made_flag':final_predict_rf})\n",
    "display(rf_submission)"
   ]
  },
  {
   "cell_type": "code",
   "execution_count": 80,
   "metadata": {},
   "outputs": [
    {
     "name": "stdout",
     "output_type": "stream",
     "text": [
      "Saved file: RF_KobePrediction1.csv\n"
     ]
    }
   ],
   "source": [
    "filename = 'RF_KobePrediction1.csv'\n",
    "\n",
    "rf_submission.to_csv(filename, index=False)\n",
    "\n",
    "print('Saved file: ' + filename)"
   ]
  },
  {
   "cell_type": "markdown",
   "metadata": {},
   "source": [
    "### The score of the first submission is 12.33045\n",
    "#### *Lower is better. With the best score currently being 0.5"
   ]
  },
  {
   "cell_type": "markdown",
   "metadata": {},
   "source": [
    "### Feature Selection and Reduction"
   ]
  },
  {
   "cell_type": "code",
   "execution_count": 82,
   "metadata": {},
   "outputs": [
    {
     "name": "stdout",
     "output_type": "stream",
     "text": [
      "('lat', 0.08087024463205048)\n",
      "('loc_x', 0.08084342469168773)\n",
      "('loc_y', 0.08104847132699022)\n",
      "('lon', 0.08095081238140106)\n",
      "('minutes_remaining', 0.08515107669725706)\n",
      "('period', 0.051340617356748636)\n",
      "('playoffs', 0.014645693223365955)\n",
      "('seconds_remaining', 0.12178436785446022)\n",
      "('shot_distance', 0.05073479301678842)\n",
      "('Alley Oop Dunk Shot', 0.0005784138402114722)\n",
      "('Alley Oop Layup shot', 0.000561951696783285)\n",
      "('Cutting Finger Roll Layup Shot', 0.0)\n",
      "('Cutting Layup Shot', 7.627530782436745e-06)\n",
      "('Driving Bank shot', 2.763498141041385e-05)\n",
      "('Driving Dunk Shot', 0.0022128916791053607)\n",
      "('Driving Finger Roll Layup Shot', 0.0009359755942557128)\n",
      "('Driving Finger Roll Shot', 0.0010222298747621656)\n",
      "('Driving Floating Bank Jump Shot', 1.7650053536568488e-05)\n",
      "('Driving Floating Jump Shot', 5.2725908497264554e-05)\n",
      "('Driving Hook Shot', 8.659340385935182e-05)\n",
      "('Driving Jump shot', 0.00035555328641154687)\n",
      "('Driving Layup Shot', 0.008706353903577263)\n",
      "('Driving Reverse Layup Shot', 0.0007116741767266519)\n",
      "('Driving Slam Dunk Shot', 0.00018561078951310963)\n",
      "('Dunk Shot', 0.0010573876032970511)\n",
      "('Fadeaway Bank shot', 0.0004124389010465593)\n",
      "('Fadeaway Jump Shot', 0.0036108509012665476)\n",
      "('Finger Roll Layup Shot', 0.0002801244150131477)\n",
      "('Finger Roll Shot', 0.00025803619478665155)\n",
      "('Floating Jump shot', 0.0010045585923110227)\n",
      "('Follow Up Dunk Shot', 3.0532657416965286e-05)\n",
      "('Hook Bank Shot', 2.7545469381739817e-05)\n",
      "('Hook Shot', 0.000739123734676911)\n",
      "('Jump Bank Shot', 0.003531824773437074)\n",
      "('Jump Hook Shot', 0.0002716207114514963)\n",
      "('Jump Shot', 0.04183304483957)\n",
      "('Layup Shot', 0.015294468113713525)\n",
      "('Pullup Bank shot', 7.101591701378612e-05)\n",
      "('Pullup Jump shot', 0.0042821985121782626)\n",
      "('Putback Dunk Shot', 8.860572479687507e-06)\n",
      "('Putback Layup Shot', 5.811294605670851e-05)\n",
      "('Putback Slam Dunk Shot', 2.6702728459833516e-06)\n",
      "('Reverse Dunk Shot', 0.00029218004579798933)\n",
      "('Reverse Layup Shot', 0.0015559229569977423)\n",
      "('Reverse Slam Dunk Shot', 7.079041781869753e-05)\n",
      "('Running Bank shot', 0.00034064201923246224)\n",
      "('Running Dunk Shot', 8.871528630031926e-05)\n",
      "('Running Finger Roll Layup Shot', 8.045230540063637e-05)\n",
      "('Running Finger Roll Shot', 2.60969038125309e-05)\n",
      "('Running Hook Shot', 0.0003280867684267507)\n",
      "('Running Jump Shot', 0.006907920752893122)\n",
      "('Running Layup Shot', 0.0005454684604791311)\n",
      "('Running Pull-Up Jump Shot', 5.2638845544135034e-05)\n",
      "('Running Reverse Layup Shot', 0.00010530706291648622)\n",
      "('Running Slam Dunk Shot', 2.186195452485271e-06)\n",
      "('Running Tip Shot', 4.2693602102015076e-05)\n",
      "('Slam Dunk Shot', 0.003132861559258165)\n",
      "('Step Back Jump shot', 0.0011650599461568943)\n",
      "('Tip Layup Shot', 4.0911962520878805e-05)\n",
      "('Turnaround Bank shot', 0.00023795031103810912)\n",
      "('Turnaround Fadeaway Bank Jump Shot', 0.0)\n",
      "('Turnaround Fadeaway shot', 0.0021929349311447504)\n",
      "('Turnaround Finger Roll Shot', 0.0)\n",
      "('Turnaround Hook Shot', 7.061088910171811e-05)\n",
      "('Bank Shot', 0.0007988453858396071)\n",
      "('Dunk', 0.012301257202948444)\n",
      "('Hook Shot', 0.0005260030060816133)\n",
      "('Jump Shot', 0.0078002597790734025)\n",
      "('Layup', 0.004521502090057251)\n",
      "('2PT Field Goal', 0.002486602883876664)\n",
      "('Back Court(BC)', 0.00019217737087621716)\n",
      "('Center(C)', 0.005742209974903528)\n",
      "('Left Side Center(LC)', 0.003398073427880665)\n",
      "('Left Side(L)', 0.003500002499256331)\n",
      "('Right Side Center(RC)', 0.0036503625260991056)\n",
      "('Above the Break 3', 0.0016603986548558993)\n",
      "('Backcourt', 0.00012208585699232706)\n",
      "('In The Paint (Non-RA)', 0.002549381841558052)\n",
      "('Left Corner 3', 0.00032481394641211607)\n",
      "('Mid-Range', 0.0031790484174957136)\n",
      "('Restricted Area', 0.005075792441799584)\n",
      "('16-24 ft.', 0.003262313618535055)\n",
      "('24+ ft.', 0.0019525460817257563)\n",
      "('8-16 ft.', 0.0037540700004259748)\n",
      "('Back Court Shot', 0.0002075446883718169)\n",
      "('ATL', 0.004428070809431397)\n",
      "('BKN', 0.0005038257332850788)\n",
      "('BOS', 0.005897387479067699)\n",
      "('CHA', 0.0043904177239606134)\n",
      "('CHI', 0.004072327905256539)\n",
      "('CLE', 0.004508449124791977)\n",
      "('DAL', 0.007211417732253437)\n",
      "('DEN', 0.008758436995647647)\n",
      "('DET', 0.004784886448012151)\n",
      "('GSW', 0.0073987758960523155)\n",
      "('HOU', 0.008715552807800177)\n",
      "('IND', 0.005061971097902081)\n",
      "('LAC', 0.006812544759894905)\n",
      "('MEM', 0.006269041349118981)\n",
      "('MIA', 0.004739413856351533)\n",
      "('MIL', 0.004470301397871759)\n",
      "('MIN', 0.0075246978101475995)\n",
      "('NJN', 0.00432292097138223)\n",
      "('NOH', 0.004126398076440316)\n",
      "('NOP', 0.003013609687693209)\n",
      "('NYK', 0.004735772281624099)\n",
      "('OKC', 0.004136985988304862)\n",
      "('ORL', 0.005282085273691722)\n",
      "('PHI', 0.00458919637668927)\n",
      "('PHX', 0.00827008317949966)\n",
      "('POR', 0.008357851892772999)\n",
      "('SAC', 0.008159967759300113)\n",
      "('SAS', 0.008854746640220363)\n",
      "('SEA', 0.005822640735708051)\n",
      "('TOR', 0.005121353028762274)\n",
      "('UTA', 0.007465688330749476)\n",
      "('VAN', 0.0023016549047297882)\n"
     ]
    }
   ],
   "source": [
    "from sklearn import datasets\n",
    "from sklearn.feature_selection import SelectFromModel\n",
    "\n",
    "# integer is number of trees in model\n",
    "model = my_RandomForest\n",
    "\n",
    "feature_importance = []\n",
    "for feature in zip(X_train.columns, my_RandomForest.feature_importances_):\n",
    "    feature_importance.append(feature)\n",
    "    print(feature)"
   ]
  },
  {
   "cell_type": "code",
   "execution_count": 84,
   "metadata": {},
   "outputs": [
    {
     "data": {
      "text/plain": [
       "[('Cutting Finger Roll Layup Shot', 0.0),\n",
       " ('Turnaround Fadeaway Bank Jump Shot', 0.0),\n",
       " ('Turnaround Finger Roll Shot', 0.0),\n",
       " ('Running Slam Dunk Shot', 2.186195452485271e-06),\n",
       " ('Putback Slam Dunk Shot', 2.6702728459833516e-06),\n",
       " ('Cutting Layup Shot', 7.627530782436745e-06),\n",
       " ('Putback Dunk Shot', 8.860572479687507e-06),\n",
       " ('Driving Floating Bank Jump Shot', 1.7650053536568488e-05),\n",
       " ('Running Finger Roll Shot', 2.60969038125309e-05),\n",
       " ('Hook Bank Shot', 2.7545469381739817e-05),\n",
       " ('Driving Bank shot', 2.763498141041385e-05),\n",
       " ('Follow Up Dunk Shot', 3.0532657416965286e-05),\n",
       " ('Tip Layup Shot', 4.0911962520878805e-05),\n",
       " ('Running Tip Shot', 4.2693602102015076e-05),\n",
       " ('Running Pull-Up Jump Shot', 5.2638845544135034e-05),\n",
       " ('Driving Floating Jump Shot', 5.2725908497264554e-05),\n",
       " ('Putback Layup Shot', 5.811294605670851e-05),\n",
       " ('Turnaround Hook Shot', 7.061088910171811e-05),\n",
       " ('Reverse Slam Dunk Shot', 7.079041781869753e-05),\n",
       " ('Pullup Bank shot', 7.101591701378612e-05),\n",
       " ('Running Finger Roll Layup Shot', 8.045230540063637e-05),\n",
       " ('Driving Hook Shot', 8.659340385935182e-05),\n",
       " ('Running Dunk Shot', 8.871528630031926e-05),\n",
       " ('Running Reverse Layup Shot', 0.00010530706291648622),\n",
       " ('Backcourt', 0.00012208585699232706),\n",
       " ('Driving Slam Dunk Shot', 0.00018561078951310963),\n",
       " ('Back Court(BC)', 0.00019217737087621716),\n",
       " ('Back Court Shot', 0.0002075446883718169),\n",
       " ('Turnaround Bank shot', 0.00023795031103810912),\n",
       " ('Finger Roll Shot', 0.00025803619478665155),\n",
       " ('Jump Hook Shot', 0.0002716207114514963),\n",
       " ('Finger Roll Layup Shot', 0.0002801244150131477),\n",
       " ('Reverse Dunk Shot', 0.00029218004579798933),\n",
       " ('Left Corner 3', 0.00032481394641211607),\n",
       " ('Running Hook Shot', 0.0003280867684267507),\n",
       " ('Running Bank shot', 0.00034064201923246224),\n",
       " ('Driving Jump shot', 0.00035555328641154687),\n",
       " ('Fadeaway Bank shot', 0.0004124389010465593),\n",
       " ('BKN', 0.0005038257332850788),\n",
       " ('Hook Shot', 0.0005260030060816133),\n",
       " ('Running Layup Shot', 0.0005454684604791311),\n",
       " ('Alley Oop Layup shot', 0.000561951696783285),\n",
       " ('Alley Oop Dunk Shot', 0.0005784138402114722),\n",
       " ('Driving Reverse Layup Shot', 0.0007116741767266519),\n",
       " ('Hook Shot', 0.000739123734676911),\n",
       " ('Bank Shot', 0.0007988453858396071),\n",
       " ('Driving Finger Roll Layup Shot', 0.0009359755942557128),\n",
       " ('Floating Jump shot', 0.0010045585923110227),\n",
       " ('Driving Finger Roll Shot', 0.0010222298747621656),\n",
       " ('Dunk Shot', 0.0010573876032970511),\n",
       " ('Step Back Jump shot', 0.0011650599461568943),\n",
       " ('Reverse Layup Shot', 0.0015559229569977423),\n",
       " ('Above the Break 3', 0.0016603986548558993),\n",
       " ('24+ ft.', 0.0019525460817257563),\n",
       " ('Turnaround Fadeaway shot', 0.0021929349311447504),\n",
       " ('Driving Dunk Shot', 0.0022128916791053607),\n",
       " ('VAN', 0.0023016549047297882),\n",
       " ('2PT Field Goal', 0.002486602883876664),\n",
       " ('In The Paint (Non-RA)', 0.002549381841558052),\n",
       " ('NOP', 0.003013609687693209),\n",
       " ('Slam Dunk Shot', 0.003132861559258165),\n",
       " ('Mid-Range', 0.0031790484174957136),\n",
       " ('16-24 ft.', 0.003262313618535055),\n",
       " ('Left Side Center(LC)', 0.003398073427880665),\n",
       " ('Left Side(L)', 0.003500002499256331),\n",
       " ('Jump Bank Shot', 0.003531824773437074),\n",
       " ('Fadeaway Jump Shot', 0.0036108509012665476),\n",
       " ('Right Side Center(RC)', 0.0036503625260991056),\n",
       " ('8-16 ft.', 0.0037540700004259748),\n",
       " ('CHI', 0.004072327905256539),\n",
       " ('NOH', 0.004126398076440316),\n",
       " ('OKC', 0.004136985988304862),\n",
       " ('Pullup Jump shot', 0.0042821985121782626),\n",
       " ('NJN', 0.00432292097138223),\n",
       " ('CHA', 0.0043904177239606134),\n",
       " ('ATL', 0.004428070809431397),\n",
       " ('MIL', 0.004470301397871759),\n",
       " ('CLE', 0.004508449124791977),\n",
       " ('Layup', 0.004521502090057251),\n",
       " ('PHI', 0.00458919637668927),\n",
       " ('NYK', 0.004735772281624099),\n",
       " ('MIA', 0.004739413856351533),\n",
       " ('DET', 0.004784886448012151),\n",
       " ('IND', 0.005061971097902081),\n",
       " ('Restricted Area', 0.005075792441799584),\n",
       " ('TOR', 0.005121353028762274),\n",
       " ('ORL', 0.005282085273691722),\n",
       " ('Center(C)', 0.005742209974903528),\n",
       " ('SEA', 0.005822640735708051),\n",
       " ('BOS', 0.005897387479067699),\n",
       " ('MEM', 0.006269041349118981),\n",
       " ('LAC', 0.006812544759894905),\n",
       " ('Running Jump Shot', 0.006907920752893122),\n",
       " ('DAL', 0.007211417732253437),\n",
       " ('GSW', 0.0073987758960523155),\n",
       " ('UTA', 0.007465688330749476),\n",
       " ('MIN', 0.0075246978101475995),\n",
       " ('Jump Shot', 0.0078002597790734025),\n",
       " ('SAC', 0.008159967759300113),\n",
       " ('PHX', 0.00827008317949966),\n",
       " ('POR', 0.008357851892772999),\n",
       " ('Driving Layup Shot', 0.008706353903577263),\n",
       " ('HOU', 0.008715552807800177),\n",
       " ('DEN', 0.008758436995647647),\n",
       " ('SAS', 0.008854746640220363),\n",
       " ('Dunk', 0.012301257202948444),\n",
       " ('playoffs', 0.014645693223365955),\n",
       " ('Layup Shot', 0.015294468113713525),\n",
       " ('Jump Shot', 0.04183304483957),\n",
       " ('shot_distance', 0.05073479301678842),\n",
       " ('period', 0.051340617356748636),\n",
       " ('loc_x', 0.08084342469168773),\n",
       " ('lat', 0.08087024463205048),\n",
       " ('lon', 0.08095081238140106),\n",
       " ('loc_y', 0.08104847132699022),\n",
       " ('minutes_remaining', 0.08515107669725706),\n",
       " ('seconds_remaining', 0.12178436785446022)]"
      ]
     },
     "execution_count": 84,
     "metadata": {},
     "output_type": "execute_result"
    }
   ],
   "source": [
    "from operator import itemgetter\n",
    "sorted(feature_importance,key=itemgetter(1))"
   ]
  },
  {
   "cell_type": "markdown",
   "metadata": {},
   "source": [
    "#### Based off the importances, it appears that the type of shots have low impact on the final prediction.\n",
    "#### We also learn that the time remaining has the highest impact on the prediction. With seconds_remaining being the most importance."
   ]
  },
  {
   "cell_type": "code",
   "execution_count": 85,
   "metadata": {
    "scrolled": true
   },
   "outputs": [
    {
     "data": {
      "text/plain": [
       "SelectFromModel(estimator=RandomForestClassifier(bootstrap=True,\n",
       "                                                 class_weight=None,\n",
       "                                                 criterion='gini',\n",
       "                                                 max_depth=None,\n",
       "                                                 max_features='auto',\n",
       "                                                 max_leaf_nodes=None,\n",
       "                                                 min_impurity_decrease=0.0,\n",
       "                                                 min_impurity_split=None,\n",
       "                                                 min_samples_leaf=1,\n",
       "                                                 min_samples_split=2,\n",
       "                                                 min_weight_fraction_leaf=0.0,\n",
       "                                                 n_estimators=1000, n_jobs=None,\n",
       "                                                 oob_score=False,\n",
       "                                                 random_state=3, verbose=0,\n",
       "                                                 warm_start=False),\n",
       "                max_features=None, norm_order=1, prefit=False, threshold=0.001)"
      ]
     },
     "execution_count": 85,
     "metadata": {},
     "output_type": "execute_result"
    }
   ],
   "source": [
    "# The threshold is set to .001 to allow only features with high importance\n",
    "new_model = SelectFromModel(model, threshold=.001)\n",
    "new_model.fit(X_train, y_train)"
   ]
  },
  {
   "cell_type": "code",
   "execution_count": 90,
   "metadata": {},
   "outputs": [
    {
     "data": {
      "text/plain": [
       "'lat'"
      ]
     },
     "metadata": {},
     "output_type": "display_data"
    },
    {
     "data": {
      "text/plain": [
       "'loc_x'"
      ]
     },
     "metadata": {},
     "output_type": "display_data"
    },
    {
     "data": {
      "text/plain": [
       "'loc_y'"
      ]
     },
     "metadata": {},
     "output_type": "display_data"
    },
    {
     "data": {
      "text/plain": [
       "'lon'"
      ]
     },
     "metadata": {},
     "output_type": "display_data"
    },
    {
     "data": {
      "text/plain": [
       "'minutes_remaining'"
      ]
     },
     "metadata": {},
     "output_type": "display_data"
    },
    {
     "data": {
      "text/plain": [
       "'period'"
      ]
     },
     "metadata": {},
     "output_type": "display_data"
    },
    {
     "data": {
      "text/plain": [
       "'playoffs'"
      ]
     },
     "metadata": {},
     "output_type": "display_data"
    },
    {
     "data": {
      "text/plain": [
       "'seconds_remaining'"
      ]
     },
     "metadata": {},
     "output_type": "display_data"
    },
    {
     "data": {
      "text/plain": [
       "'shot_distance'"
      ]
     },
     "metadata": {},
     "output_type": "display_data"
    },
    {
     "data": {
      "text/plain": [
       "'Driving Dunk Shot'"
      ]
     },
     "metadata": {},
     "output_type": "display_data"
    },
    {
     "data": {
      "text/plain": [
       "'Driving Finger Roll Shot'"
      ]
     },
     "metadata": {},
     "output_type": "display_data"
    },
    {
     "data": {
      "text/plain": [
       "'Driving Layup Shot'"
      ]
     },
     "metadata": {},
     "output_type": "display_data"
    },
    {
     "data": {
      "text/plain": [
       "'Dunk Shot'"
      ]
     },
     "metadata": {},
     "output_type": "display_data"
    },
    {
     "data": {
      "text/plain": [
       "'Fadeaway Jump Shot'"
      ]
     },
     "metadata": {},
     "output_type": "display_data"
    },
    {
     "data": {
      "text/plain": [
       "'Floating Jump shot'"
      ]
     },
     "metadata": {},
     "output_type": "display_data"
    },
    {
     "data": {
      "text/plain": [
       "'Jump Bank Shot'"
      ]
     },
     "metadata": {},
     "output_type": "display_data"
    },
    {
     "data": {
      "text/plain": [
       "'Jump Shot'"
      ]
     },
     "metadata": {},
     "output_type": "display_data"
    },
    {
     "data": {
      "text/plain": [
       "'Layup Shot'"
      ]
     },
     "metadata": {},
     "output_type": "display_data"
    },
    {
     "data": {
      "text/plain": [
       "'Pullup Jump shot'"
      ]
     },
     "metadata": {},
     "output_type": "display_data"
    },
    {
     "data": {
      "text/plain": [
       "'Reverse Layup Shot'"
      ]
     },
     "metadata": {},
     "output_type": "display_data"
    },
    {
     "data": {
      "text/plain": [
       "'Running Jump Shot'"
      ]
     },
     "metadata": {},
     "output_type": "display_data"
    },
    {
     "data": {
      "text/plain": [
       "'Slam Dunk Shot'"
      ]
     },
     "metadata": {},
     "output_type": "display_data"
    },
    {
     "data": {
      "text/plain": [
       "'Step Back Jump shot'"
      ]
     },
     "metadata": {},
     "output_type": "display_data"
    },
    {
     "data": {
      "text/plain": [
       "'Turnaround Fadeaway shot'"
      ]
     },
     "metadata": {},
     "output_type": "display_data"
    },
    {
     "data": {
      "text/plain": [
       "'Dunk'"
      ]
     },
     "metadata": {},
     "output_type": "display_data"
    },
    {
     "data": {
      "text/plain": [
       "'Jump Shot'"
      ]
     },
     "metadata": {},
     "output_type": "display_data"
    },
    {
     "data": {
      "text/plain": [
       "'Layup'"
      ]
     },
     "metadata": {},
     "output_type": "display_data"
    },
    {
     "data": {
      "text/plain": [
       "'2PT Field Goal'"
      ]
     },
     "metadata": {},
     "output_type": "display_data"
    },
    {
     "data": {
      "text/plain": [
       "'Center(C)'"
      ]
     },
     "metadata": {},
     "output_type": "display_data"
    },
    {
     "data": {
      "text/plain": [
       "'Left Side Center(LC)'"
      ]
     },
     "metadata": {},
     "output_type": "display_data"
    },
    {
     "data": {
      "text/plain": [
       "'Left Side(L)'"
      ]
     },
     "metadata": {},
     "output_type": "display_data"
    },
    {
     "data": {
      "text/plain": [
       "'Right Side Center(RC)'"
      ]
     },
     "metadata": {},
     "output_type": "display_data"
    },
    {
     "data": {
      "text/plain": [
       "'Above the Break 3'"
      ]
     },
     "metadata": {},
     "output_type": "display_data"
    },
    {
     "data": {
      "text/plain": [
       "'In The Paint (Non-RA)'"
      ]
     },
     "metadata": {},
     "output_type": "display_data"
    },
    {
     "data": {
      "text/plain": [
       "'Mid-Range'"
      ]
     },
     "metadata": {},
     "output_type": "display_data"
    },
    {
     "data": {
      "text/plain": [
       "'Restricted Area'"
      ]
     },
     "metadata": {},
     "output_type": "display_data"
    },
    {
     "data": {
      "text/plain": [
       "'16-24 ft.'"
      ]
     },
     "metadata": {},
     "output_type": "display_data"
    },
    {
     "data": {
      "text/plain": [
       "'24+ ft.'"
      ]
     },
     "metadata": {},
     "output_type": "display_data"
    },
    {
     "data": {
      "text/plain": [
       "'8-16 ft.'"
      ]
     },
     "metadata": {},
     "output_type": "display_data"
    },
    {
     "data": {
      "text/plain": [
       "'ATL'"
      ]
     },
     "metadata": {},
     "output_type": "display_data"
    },
    {
     "data": {
      "text/plain": [
       "'BOS'"
      ]
     },
     "metadata": {},
     "output_type": "display_data"
    },
    {
     "data": {
      "text/plain": [
       "'CHA'"
      ]
     },
     "metadata": {},
     "output_type": "display_data"
    },
    {
     "data": {
      "text/plain": [
       "'CHI'"
      ]
     },
     "metadata": {},
     "output_type": "display_data"
    },
    {
     "data": {
      "text/plain": [
       "'CLE'"
      ]
     },
     "metadata": {},
     "output_type": "display_data"
    },
    {
     "data": {
      "text/plain": [
       "'DAL'"
      ]
     },
     "metadata": {},
     "output_type": "display_data"
    },
    {
     "data": {
      "text/plain": [
       "'DEN'"
      ]
     },
     "metadata": {},
     "output_type": "display_data"
    },
    {
     "data": {
      "text/plain": [
       "'DET'"
      ]
     },
     "metadata": {},
     "output_type": "display_data"
    },
    {
     "data": {
      "text/plain": [
       "'GSW'"
      ]
     },
     "metadata": {},
     "output_type": "display_data"
    },
    {
     "data": {
      "text/plain": [
       "'HOU'"
      ]
     },
     "metadata": {},
     "output_type": "display_data"
    },
    {
     "data": {
      "text/plain": [
       "'IND'"
      ]
     },
     "metadata": {},
     "output_type": "display_data"
    },
    {
     "data": {
      "text/plain": [
       "'LAC'"
      ]
     },
     "metadata": {},
     "output_type": "display_data"
    },
    {
     "data": {
      "text/plain": [
       "'MEM'"
      ]
     },
     "metadata": {},
     "output_type": "display_data"
    },
    {
     "data": {
      "text/plain": [
       "'MIA'"
      ]
     },
     "metadata": {},
     "output_type": "display_data"
    },
    {
     "data": {
      "text/plain": [
       "'MIL'"
      ]
     },
     "metadata": {},
     "output_type": "display_data"
    },
    {
     "data": {
      "text/plain": [
       "'MIN'"
      ]
     },
     "metadata": {},
     "output_type": "display_data"
    },
    {
     "data": {
      "text/plain": [
       "'NJN'"
      ]
     },
     "metadata": {},
     "output_type": "display_data"
    },
    {
     "data": {
      "text/plain": [
       "'NOH'"
      ]
     },
     "metadata": {},
     "output_type": "display_data"
    },
    {
     "data": {
      "text/plain": [
       "'NOP'"
      ]
     },
     "metadata": {},
     "output_type": "display_data"
    },
    {
     "data": {
      "text/plain": [
       "'NYK'"
      ]
     },
     "metadata": {},
     "output_type": "display_data"
    },
    {
     "data": {
      "text/plain": [
       "'OKC'"
      ]
     },
     "metadata": {},
     "output_type": "display_data"
    },
    {
     "data": {
      "text/plain": [
       "'ORL'"
      ]
     },
     "metadata": {},
     "output_type": "display_data"
    },
    {
     "data": {
      "text/plain": [
       "'PHI'"
      ]
     },
     "metadata": {},
     "output_type": "display_data"
    },
    {
     "data": {
      "text/plain": [
       "'PHX'"
      ]
     },
     "metadata": {},
     "output_type": "display_data"
    },
    {
     "data": {
      "text/plain": [
       "'POR'"
      ]
     },
     "metadata": {},
     "output_type": "display_data"
    },
    {
     "data": {
      "text/plain": [
       "'SAC'"
      ]
     },
     "metadata": {},
     "output_type": "display_data"
    },
    {
     "data": {
      "text/plain": [
       "'SAS'"
      ]
     },
     "metadata": {},
     "output_type": "display_data"
    },
    {
     "data": {
      "text/plain": [
       "'SEA'"
      ]
     },
     "metadata": {},
     "output_type": "display_data"
    },
    {
     "data": {
      "text/plain": [
       "'TOR'"
      ]
     },
     "metadata": {},
     "output_type": "display_data"
    },
    {
     "data": {
      "text/plain": [
       "'UTA'"
      ]
     },
     "metadata": {},
     "output_type": "display_data"
    },
    {
     "data": {
      "text/plain": [
       "'VAN'"
      ]
     },
     "metadata": {},
     "output_type": "display_data"
    }
   ],
   "source": [
    "for feature_list_index in new_model.get_support(indices=True):\n",
    "    display(X_train.columns[feature_list_index])"
   ]
  },
  {
   "cell_type": "code",
   "execution_count": 94,
   "metadata": {},
   "outputs": [],
   "source": [
    "X_important_train = new_model.transform(X_train)\n",
    "X_important_test = new_model.transform(X_test) "
   ]
  },
  {
   "cell_type": "markdown",
   "metadata": {},
   "source": [
    "### New Random Forest Classifier using most important features"
   ]
  },
  {
   "cell_type": "code",
   "execution_count": 95,
   "metadata": {},
   "outputs": [
    {
     "data": {
      "text/plain": [
       "RandomForestClassifier(bootstrap=True, class_weight=None, criterion='gini',\n",
       "                       max_depth=None, max_features='auto', max_leaf_nodes=None,\n",
       "                       min_impurity_decrease=0.0, min_impurity_split=None,\n",
       "                       min_samples_leaf=1, min_samples_split=2,\n",
       "                       min_weight_fraction_leaf=0.0, n_estimators=1000,\n",
       "                       n_jobs=None, oob_score=False, random_state=3, verbose=0,\n",
       "                       warm_start=False)"
      ]
     },
     "execution_count": 95,
     "metadata": {},
     "output_type": "execute_result"
    }
   ],
   "source": [
    "clf_important = RandomForestClassifier(n_estimators = 1000, bootstrap = True, random_state=3)\n",
    "\n",
    "clf_important.fit(X_important_train, y_train)"
   ]
  },
  {
   "cell_type": "code",
   "execution_count": 96,
   "metadata": {},
   "outputs": [
    {
     "data": {
      "text/plain": [
       "0.6611538087362584"
      ]
     },
     "execution_count": 96,
     "metadata": {},
     "output_type": "execute_result"
    }
   ],
   "source": [
    "y_important_pred = clf_important.predict(X_important_test)\n",
    "\n",
    "accuracy_score(y_test, y_important_pred)"
   ]
  },
  {
   "cell_type": "markdown",
   "metadata": {},
   "source": [
    "### Reducing the number of features did not change the accuracy much. The accuracy stayed around 66%"
   ]
  },
  {
   "cell_type": "code",
   "execution_count": 103,
   "metadata": {},
   "outputs": [
    {
     "name": "stdout",
     "output_type": "stream",
     "text": [
      "Saved file: RF_FeatSelect_KobePrediction2.csv\n"
     ]
    }
   ],
   "source": [
    "clf_prediction_data = new_model.transform(final_prediction_data)\n",
    "feature_selection_predict = clf_important.predict(clf_prediction_data)\n",
    "\n",
    "rf_submission = pd.DataFrame({'shot_id':prediction_data['shot_id'],'shot_made_flag':feature_selection_predict})\n",
    "\n",
    "\n",
    "filename = 'RF_FeatSelect_KobePrediction2.csv'\n",
    "\n",
    "rf_submission.to_csv(filename, index=False)\n",
    "\n",
    "print('Saved file: ' + filename)"
   ]
  },
  {
   "cell_type": "markdown",
   "metadata": {},
   "source": [
    "#### Final Score of 11.61893"
   ]
  },
  {
   "cell_type": "markdown",
   "metadata": {},
   "source": [
    "### Parameter Tuning"
   ]
  },
  {
   "cell_type": "code",
   "execution_count": 111,
   "metadata": {},
   "outputs": [
    {
     "data": {
      "text/plain": [
       "GridSearchCV(cv=5, error_score='raise-deprecating',\n",
       "             estimator=RandomForestClassifier(bootstrap=True, class_weight=None,\n",
       "                                              criterion='gini', max_depth=None,\n",
       "                                              max_features='auto',\n",
       "                                              max_leaf_nodes=None,\n",
       "                                              min_impurity_decrease=0.0,\n",
       "                                              min_impurity_split=None,\n",
       "                                              min_samples_leaf=1,\n",
       "                                              min_samples_split=2,\n",
       "                                              min_weight_fraction_leaf=0.0,\n",
       "                                              n_estimators=1000, n_jobs=None,\n",
       "                                              oob_score=False, random_state=3,\n",
       "                                              verbose=0, warm_start=False),\n",
       "             iid='warn', n_jobs=None,\n",
       "             param_grid={'max_depth': [2, 4, 8, 16, 32, None],\n",
       "                         'n_estimators': [5, 10, 50, 100, 250, 500, 1000]},\n",
       "             pre_dispatch='2*n_jobs', refit=True, return_train_score=False,\n",
       "             scoring=None, verbose=0)"
      ]
     },
     "execution_count": 111,
     "metadata": {},
     "output_type": "execute_result"
    }
   ],
   "source": [
    "parameters = {\n",
    "    \"n_estimators\":[5,10,50,100,250,500,1000],\n",
    "    \"max_depth\":[2,4,8,16,32,None]\n",
    "}\n",
    "\n",
    "from sklearn.model_selection import GridSearchCV\n",
    "cv = GridSearchCV(clf_important, parameters, cv=5)\n",
    "cv.fit(X_important_train, y_train)"
   ]
  },
  {
   "cell_type": "code",
   "execution_count": 112,
   "metadata": {},
   "outputs": [
    {
     "name": "stdout",
     "output_type": "stream",
     "text": [
      "Best parameters are: {'max_depth': 16, 'n_estimators': 500}\n",
      "\n",
      "\n",
      "0.608 + or -0.006 for the {'max_depth': 2, 'n_estimators': 5}\n",
      "0.612 + or -0.005 for the {'max_depth': 2, 'n_estimators': 10}\n",
      "0.626 + or -0.007 for the {'max_depth': 2, 'n_estimators': 50}\n",
      "0.613 + or -0.01 for the {'max_depth': 2, 'n_estimators': 100}\n",
      "0.609 + or -0.006 for the {'max_depth': 2, 'n_estimators': 250}\n",
      "0.61 + or -0.006 for the {'max_depth': 2, 'n_estimators': 500}\n",
      "0.61 + or -0.006 for the {'max_depth': 2, 'n_estimators': 1000}\n",
      "0.642 + or -0.013 for the {'max_depth': 4, 'n_estimators': 5}\n",
      "0.649 + or -0.011 for the {'max_depth': 4, 'n_estimators': 10}\n",
      "0.655 + or -0.004 for the {'max_depth': 4, 'n_estimators': 50}\n",
      "0.654 + or -0.006 for the {'max_depth': 4, 'n_estimators': 100}\n",
      "0.652 + or -0.002 for the {'max_depth': 4, 'n_estimators': 250}\n",
      "0.652 + or -0.003 for the {'max_depth': 4, 'n_estimators': 500}\n",
      "0.652 + or -0.003 for the {'max_depth': 4, 'n_estimators': 1000}\n",
      "0.669 + or -0.006 for the {'max_depth': 8, 'n_estimators': 5}\n",
      "0.673 + or -0.005 for the {'max_depth': 8, 'n_estimators': 10}\n",
      "0.676 + or -0.006 for the {'max_depth': 8, 'n_estimators': 50}\n",
      "0.677 + or -0.006 for the {'max_depth': 8, 'n_estimators': 100}\n",
      "0.677 + or -0.006 for the {'max_depth': 8, 'n_estimators': 250}\n",
      "0.677 + or -0.007 for the {'max_depth': 8, 'n_estimators': 500}\n",
      "0.677 + or -0.007 for the {'max_depth': 8, 'n_estimators': 1000}\n",
      "0.648 + or -0.006 for the {'max_depth': 16, 'n_estimators': 5}\n",
      "0.66 + or -0.007 for the {'max_depth': 16, 'n_estimators': 10}\n",
      "0.675 + or -0.007 for the {'max_depth': 16, 'n_estimators': 50}\n",
      "0.677 + or -0.007 for the {'max_depth': 16, 'n_estimators': 100}\n",
      "0.677 + or -0.007 for the {'max_depth': 16, 'n_estimators': 250}\n",
      "0.677 + or -0.007 for the {'max_depth': 16, 'n_estimators': 500}\n",
      "0.677 + or -0.007 for the {'max_depth': 16, 'n_estimators': 1000}\n",
      "0.622 + or -0.002 for the {'max_depth': 32, 'n_estimators': 5}\n",
      "0.629 + or -0.005 for the {'max_depth': 32, 'n_estimators': 10}\n",
      "0.658 + or -0.004 for the {'max_depth': 32, 'n_estimators': 50}\n",
      "0.66 + or -0.006 for the {'max_depth': 32, 'n_estimators': 100}\n",
      "0.664 + or -0.007 for the {'max_depth': 32, 'n_estimators': 250}\n",
      "0.664 + or -0.006 for the {'max_depth': 32, 'n_estimators': 500}\n",
      "0.665 + or -0.007 for the {'max_depth': 32, 'n_estimators': 1000}\n",
      "0.61 + or -0.008 for the {'max_depth': None, 'n_estimators': 5}\n",
      "0.634 + or -0.01 for the {'max_depth': None, 'n_estimators': 10}\n",
      "0.653 + or -0.01 for the {'max_depth': None, 'n_estimators': 50}\n",
      "0.658 + or -0.009 for the {'max_depth': None, 'n_estimators': 100}\n",
      "0.659 + or -0.007 for the {'max_depth': None, 'n_estimators': 250}\n",
      "0.66 + or -0.007 for the {'max_depth': None, 'n_estimators': 500}\n",
      "0.661 + or -0.006 for the {'max_depth': None, 'n_estimators': 1000}\n"
     ]
    }
   ],
   "source": [
    "print(f'Best parameters are: {cv.best_params_}')\n",
    "print(\"\\n\")\n",
    "mean_score = cv.cv_results_['mean_test_score']\n",
    "std_score = cv.cv_results_['std_test_score']\n",
    "params = cv.cv_results_['params']\n",
    "for mean,std,params in zip(mean_score, std_score, params):\n",
    "    print(f'{round(mean,3)} + or -{round(std,3)} for the {params}')"
   ]
  },
  {
   "cell_type": "markdown",
   "metadata": {},
   "source": [
    "#### After testing possible parameters for our Random Forest Classifer, we see that a max_depth of 16 and n_estimators of 500 would be optimal."
   ]
  },
  {
   "cell_type": "markdown",
   "metadata": {},
   "source": [
    "### Creating a new Random Classifier with a our parameters."
   ]
  },
  {
   "cell_type": "code",
   "execution_count": 113,
   "metadata": {},
   "outputs": [
    {
     "data": {
      "text/plain": [
       "RandomForestClassifier(bootstrap=True, class_weight=None, criterion='gini',\n",
       "                       max_depth=16, max_features='auto', max_leaf_nodes=None,\n",
       "                       min_impurity_decrease=0.0, min_impurity_split=None,\n",
       "                       min_samples_leaf=1, min_samples_split=2,\n",
       "                       min_weight_fraction_leaf=0.0, n_estimators=500,\n",
       "                       n_jobs=None, oob_score=False, random_state=3, verbose=0,\n",
       "                       warm_start=False)"
      ]
     },
     "execution_count": 113,
     "metadata": {},
     "output_type": "execute_result"
    }
   ],
   "source": [
    "clf_params = RandomForestClassifier(n_estimators = 500, max_depth = 16, bootstrap = True, random_state=3)\n",
    "\n",
    "clf_params.fit(X_important_train, y_train)"
   ]
  },
  {
   "cell_type": "code",
   "execution_count": 115,
   "metadata": {},
   "outputs": [
    {
     "data": {
      "text/plain": [
       "0.6794435256347894"
      ]
     },
     "execution_count": 115,
     "metadata": {},
     "output_type": "execute_result"
    }
   ],
   "source": [
    "y_params_predict = clf_params.predict(X_important_test)\n",
    "\n",
    "accuracy_score(y_test, y_params_predict)"
   ]
  },
  {
   "cell_type": "markdown",
   "metadata": {},
   "source": [
    "### After tuning the parameters, we have increased the accuracy by about 2% from 66% to 68%. "
   ]
  },
  {
   "cell_type": "code",
   "execution_count": 116,
   "metadata": {},
   "outputs": [
    {
     "name": "stdout",
     "output_type": "stream",
     "text": [
      "Saved file: RF_ParamSelect_KobePrediction3.csv\n"
     ]
    }
   ],
   "source": [
    "param_selection_predict = clf_params.predict(clf_prediction_data)\n",
    "\n",
    "rf_submission = pd.DataFrame({'shot_id':prediction_data['shot_id'],'shot_made_flag':param_selection_predict})\n",
    "\n",
    "filename = 'RF_ParamSelect_KobePrediction3.csv'\n",
    "\n",
    "rf_submission.to_csv(filename, index=False)\n",
    "\n",
    "print('Saved file: ' + filename)"
   ]
  },
  {
   "cell_type": "code",
   "execution_count": null,
   "metadata": {},
   "outputs": [],
   "source": []
  }
 ],
 "metadata": {
  "kernelspec": {
   "display_name": "Python 3",
   "language": "python",
   "name": "python3"
  },
  "language_info": {
   "codemirror_mode": {
    "name": "ipython",
    "version": 3
   },
   "file_extension": ".py",
   "mimetype": "text/x-python",
   "name": "python",
   "nbconvert_exporter": "python",
   "pygments_lexer": "ipython3",
   "version": "3.7.4"
  }
 },
 "nbformat": 4,
 "nbformat_minor": 2
}
