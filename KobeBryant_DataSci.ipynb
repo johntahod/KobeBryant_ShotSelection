{
 "cells": [
  {
   "cell_type": "code",
   "execution_count": 6,
   "metadata": {},
   "outputs": [
    {
     "name": "stdout",
     "output_type": "stream",
     "text": [
      "['action_type', 'combined_shot_type', 'game_event_id', 'game_id', 'lat', 'loc_x', 'loc_y', 'lon', 'minutes_remaining', 'period', 'playoffs', 'season', 'seconds_remaining', 'shot_distance', 'shot_made_flag', 'shot_type', 'shot_zone_area', 'shot_zone_basic', 'shot_zone_range', 'team_id', 'team_name', 'game_date', 'matchup', 'opponent', 'shot_id']\n",
      "         action_type combined_shot_type  game_event_id   game_id      lat  \\\n",
      "0          Jump Shot          Jump Shot             10  20000012  33.9723   \n",
      "1          Jump Shot          Jump Shot             12  20000012  34.0443   \n",
      "2          Jump Shot          Jump Shot             35  20000012  33.9093   \n",
      "3          Jump Shot          Jump Shot             43  20000012  33.8693   \n",
      "4  Driving Dunk Shot               Dunk            155  20000012  34.0443   \n",
      "\n",
      "   loc_x  loc_y       lon  minutes_remaining  period  ...       shot_type  \\\n",
      "0    167     72 -118.1028                 10       1  ...  2PT Field Goal   \n",
      "1   -157      0 -118.4268                 10       1  ...  2PT Field Goal   \n",
      "2   -101    135 -118.3708                  7       1  ...  2PT Field Goal   \n",
      "3    138    175 -118.1318                  6       1  ...  2PT Field Goal   \n",
      "4      0      0 -118.2698                  6       2  ...  2PT Field Goal   \n",
      "\n",
      "          shot_zone_area  shot_zone_basic  shot_zone_range     team_id  \\\n",
      "0          Right Side(R)        Mid-Range        16-24 ft.  1610612747   \n",
      "1           Left Side(L)        Mid-Range         8-16 ft.  1610612747   \n",
      "2   Left Side Center(LC)        Mid-Range        16-24 ft.  1610612747   \n",
      "3  Right Side Center(RC)        Mid-Range        16-24 ft.  1610612747   \n",
      "4              Center(C)  Restricted Area  Less Than 8 ft.  1610612747   \n",
      "\n",
      "            team_name   game_date    matchup opponent  shot_id  \n",
      "0  Los Angeles Lakers  2000-10-31  LAL @ POR      POR        1  \n",
      "1  Los Angeles Lakers  2000-10-31  LAL @ POR      POR        2  \n",
      "2  Los Angeles Lakers  2000-10-31  LAL @ POR      POR        3  \n",
      "3  Los Angeles Lakers  2000-10-31  LAL @ POR      POR        4  \n",
      "4  Los Angeles Lakers  2000-10-31  LAL @ POR      POR        5  \n",
      "\n",
      "[5 rows x 25 columns]\n"
     ]
    }
   ],
   "source": [
    "import numpy as np\n",
    "import pandas as pd\n",
    "\n",
    "kobe_data = pd.read_csv('data.csv')\n",
    "full_feature_list = list(kobe_data.columns)\n",
    "\n",
    "print(full_feature_list)\n",
    "print(kobe_data.head())\n",
    "\n",
    "# checking the dataset by printing every 10 lines:\n",
    "feature_cols = ['action_type','combined_shot_type','period','shot_zone_area']\n",
    "# X = kobe_data[feature_cols]\n",
    "\n",
    "# X \n",
    "\n"
   ]
  },
  {
   "cell_type": "code",
   "execution_count": null,
   "metadata": {},
   "outputs": [],
   "source": []
  },
  {
   "cell_type": "code",
   "execution_count": null,
   "metadata": {},
   "outputs": [],
   "source": []
  }
 ],
 "metadata": {
  "kernelspec": {
   "display_name": "Python 3",
   "language": "python",
   "name": "python3"
  },
  "language_info": {
   "codemirror_mode": {
    "name": "ipython",
    "version": 3
   },
   "file_extension": ".py",
   "mimetype": "text/x-python",
   "name": "python",
   "nbconvert_exporter": "python",
   "pygments_lexer": "ipython3",
   "version": "3.7.3"
  }
 },
 "nbformat": 4,
 "nbformat_minor": 2
}
